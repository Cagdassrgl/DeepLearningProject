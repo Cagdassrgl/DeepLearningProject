{
  "cells": [
    {
      "cell_type": "markdown",
      "metadata": {
        "id": "yTz-B3mlQxBO"
      },
      "source": [
        "Problemimiz classification problemi 7 adet class'ımız var. Bu class'lara ait 16 adet feature mevcut"
      ]
    },
    {
      "cell_type": "code",
      "execution_count": 3,
      "metadata": {
        "colab": {
          "base_uri": "https://localhost:8080/"
        },
        "id": "18B-Hp7jUEJ_",
        "outputId": "cd5c86dc-88e0-4e2e-a8fa-97ba1fab0d88"
      },
      "outputs": [],
      "source": [
        "import numpy as np\n",
        "import pandas as pd\n",
        "import matplotlib.pyplot as plt\n",
        "from keras.models import Sequential\n",
        "from keras.layers import Dense, BatchNormalization, Dropout\n",
        "from tensorflow.keras.utils import to_categorical\n",
        "from google.colab import drive\n",
        "drive.mount('/content/drive')"
      ]
    },
    {
      "cell_type": "code",
      "execution_count": 5,
      "metadata": {
        "colab": {
          "base_uri": "https://localhost:8080/",
          "height": 270
        },
        "id": "FFTQAkJNU9B9",
        "outputId": "20442502-b434-4761-e88c-41ed3215f902"
      },
      "outputs": [
        {
          "data": {
            "text/html": [
              "<div>\n",
              "<style scoped>\n",
              "    .dataframe tbody tr th:only-of-type {\n",
              "        vertical-align: middle;\n",
              "    }\n",
              "\n",
              "    .dataframe tbody tr th {\n",
              "        vertical-align: top;\n",
              "    }\n",
              "\n",
              "    .dataframe thead th {\n",
              "        text-align: right;\n",
              "    }\n",
              "</style>\n",
              "<table border=\"1\" class=\"dataframe\">\n",
              "  <thead>\n",
              "    <tr style=\"text-align: right;\">\n",
              "      <th></th>\n",
              "      <th>Area</th>\n",
              "      <th>Perimeter</th>\n",
              "      <th>MajorAxisLength</th>\n",
              "      <th>MinorAxisLength</th>\n",
              "      <th>AspectRation</th>\n",
              "      <th>Eccentricity</th>\n",
              "      <th>ConvexArea</th>\n",
              "      <th>EquivDiameter</th>\n",
              "      <th>Extent</th>\n",
              "      <th>Solidity</th>\n",
              "      <th>roundness</th>\n",
              "      <th>Compactness</th>\n",
              "      <th>ShapeFactor1</th>\n",
              "      <th>ShapeFactor2</th>\n",
              "      <th>ShapeFactor3</th>\n",
              "      <th>ShapeFactor4</th>\n",
              "      <th>Class</th>\n",
              "    </tr>\n",
              "  </thead>\n",
              "  <tbody>\n",
              "    <tr>\n",
              "      <th>0</th>\n",
              "      <td>28395</td>\n",
              "      <td>610.291</td>\n",
              "      <td>208.178117</td>\n",
              "      <td>173.888747</td>\n",
              "      <td>1.197191</td>\n",
              "      <td>0.549812</td>\n",
              "      <td>28715</td>\n",
              "      <td>190.141097</td>\n",
              "      <td>0.763923</td>\n",
              "      <td>0.988856</td>\n",
              "      <td>0.958027</td>\n",
              "      <td>0.913358</td>\n",
              "      <td>0.007332</td>\n",
              "      <td>0.003147</td>\n",
              "      <td>0.834222</td>\n",
              "      <td>0.998724</td>\n",
              "      <td>SEKER</td>\n",
              "    </tr>\n",
              "    <tr>\n",
              "      <th>1</th>\n",
              "      <td>28734</td>\n",
              "      <td>638.018</td>\n",
              "      <td>200.524796</td>\n",
              "      <td>182.734419</td>\n",
              "      <td>1.097356</td>\n",
              "      <td>0.411785</td>\n",
              "      <td>29172</td>\n",
              "      <td>191.272750</td>\n",
              "      <td>0.783968</td>\n",
              "      <td>0.984986</td>\n",
              "      <td>0.887034</td>\n",
              "      <td>0.953861</td>\n",
              "      <td>0.006979</td>\n",
              "      <td>0.003564</td>\n",
              "      <td>0.909851</td>\n",
              "      <td>0.998430</td>\n",
              "      <td>SEKER</td>\n",
              "    </tr>\n",
              "    <tr>\n",
              "      <th>2</th>\n",
              "      <td>29380</td>\n",
              "      <td>624.110</td>\n",
              "      <td>212.826130</td>\n",
              "      <td>175.931143</td>\n",
              "      <td>1.209713</td>\n",
              "      <td>0.562727</td>\n",
              "      <td>29690</td>\n",
              "      <td>193.410904</td>\n",
              "      <td>0.778113</td>\n",
              "      <td>0.989559</td>\n",
              "      <td>0.947849</td>\n",
              "      <td>0.908774</td>\n",
              "      <td>0.007244</td>\n",
              "      <td>0.003048</td>\n",
              "      <td>0.825871</td>\n",
              "      <td>0.999066</td>\n",
              "      <td>SEKER</td>\n",
              "    </tr>\n",
              "    <tr>\n",
              "      <th>3</th>\n",
              "      <td>30008</td>\n",
              "      <td>645.884</td>\n",
              "      <td>210.557999</td>\n",
              "      <td>182.516516</td>\n",
              "      <td>1.153638</td>\n",
              "      <td>0.498616</td>\n",
              "      <td>30724</td>\n",
              "      <td>195.467062</td>\n",
              "      <td>0.782681</td>\n",
              "      <td>0.976696</td>\n",
              "      <td>0.903936</td>\n",
              "      <td>0.928329</td>\n",
              "      <td>0.007017</td>\n",
              "      <td>0.003215</td>\n",
              "      <td>0.861794</td>\n",
              "      <td>0.994199</td>\n",
              "      <td>SEKER</td>\n",
              "    </tr>\n",
              "    <tr>\n",
              "      <th>4</th>\n",
              "      <td>30140</td>\n",
              "      <td>620.134</td>\n",
              "      <td>201.847882</td>\n",
              "      <td>190.279279</td>\n",
              "      <td>1.060798</td>\n",
              "      <td>0.333680</td>\n",
              "      <td>30417</td>\n",
              "      <td>195.896503</td>\n",
              "      <td>0.773098</td>\n",
              "      <td>0.990893</td>\n",
              "      <td>0.984877</td>\n",
              "      <td>0.970516</td>\n",
              "      <td>0.006697</td>\n",
              "      <td>0.003665</td>\n",
              "      <td>0.941900</td>\n",
              "      <td>0.999166</td>\n",
              "      <td>SEKER</td>\n",
              "    </tr>\n",
              "  </tbody>\n",
              "</table>\n",
              "</div>"
            ],
            "text/plain": [
              "    Area  Perimeter  MajorAxisLength  MinorAxisLength  AspectRation  \\\n",
              "0  28395    610.291       208.178117       173.888747      1.197191   \n",
              "1  28734    638.018       200.524796       182.734419      1.097356   \n",
              "2  29380    624.110       212.826130       175.931143      1.209713   \n",
              "3  30008    645.884       210.557999       182.516516      1.153638   \n",
              "4  30140    620.134       201.847882       190.279279      1.060798   \n",
              "\n",
              "   Eccentricity  ConvexArea  EquivDiameter    Extent  Solidity  roundness  \\\n",
              "0      0.549812       28715     190.141097  0.763923  0.988856   0.958027   \n",
              "1      0.411785       29172     191.272750  0.783968  0.984986   0.887034   \n",
              "2      0.562727       29690     193.410904  0.778113  0.989559   0.947849   \n",
              "3      0.498616       30724     195.467062  0.782681  0.976696   0.903936   \n",
              "4      0.333680       30417     195.896503  0.773098  0.990893   0.984877   \n",
              "\n",
              "   Compactness  ShapeFactor1  ShapeFactor2  ShapeFactor3  ShapeFactor4  Class  \n",
              "0     0.913358      0.007332      0.003147      0.834222      0.998724  SEKER  \n",
              "1     0.953861      0.006979      0.003564      0.909851      0.998430  SEKER  \n",
              "2     0.908774      0.007244      0.003048      0.825871      0.999066  SEKER  \n",
              "3     0.928329      0.007017      0.003215      0.861794      0.994199  SEKER  \n",
              "4     0.970516      0.006697      0.003665      0.941900      0.999166  SEKER  "
            ]
          },
          "execution_count": 5,
          "metadata": {},
          "output_type": "execute_result"
        }
      ],
      "source": [
        "df = pd.read_excel('/content/drive/MyDrive/Derin Öğrenme/data-2.xlsx') # Verimizi okuduk.\n",
        "df.head()"
      ]
    },
    {
      "cell_type": "code",
      "execution_count": 3,
      "metadata": {
        "colab": {
          "base_uri": "https://localhost:8080/"
        },
        "id": "eYQVDnsIU9J8",
        "outputId": "6c3bb721-4963-42aa-8ef2-6ffed7f947df"
      },
      "outputs": [
        {
          "data": {
            "text/plain": [
              "Area               0\n",
              "Perimeter          0\n",
              "MajorAxisLength    0\n",
              "MinorAxisLength    0\n",
              "AspectRation       0\n",
              "Eccentricity       0\n",
              "ConvexArea         0\n",
              "EquivDiameter      0\n",
              "Extent             0\n",
              "Solidity           0\n",
              "roundness          0\n",
              "Compactness        0\n",
              "ShapeFactor1       0\n",
              "ShapeFactor2       0\n",
              "ShapeFactor3       0\n",
              "ShapeFactor4       0\n",
              "Class              0\n",
              "dtype: int64"
            ]
          },
          "execution_count": 3,
          "metadata": {},
          "output_type": "execute_result"
        }
      ],
      "source": [
        "df.isnull().sum() # Boş satır yok."
      ]
    },
    {
      "cell_type": "markdown",
      "metadata": {
        "id": "zJdtbCUoXouZ"
      },
      "source": [
        "1.  SEKER: 0\n",
        "\n",
        "1.    BARBUNYA: 1\n",
        "\n",
        "1.   BOMBAY: 2\n",
        "\n",
        "1.    CALI: 3\n",
        "\n",
        "1.    HOROZ: 4\n",
        "2.    SIRA: 5 \n",
        "\n",
        "1.   DERMASON: 6"
      ]
    },
    {
      "cell_type": "code",
      "execution_count": 4,
      "metadata": {
        "id": "SzoyvhnxU9L0"
      },
      "outputs": [],
      "source": [
        "for i in range(0,df['Class'].count()): # String ifadeleri sayısallaştırdık.\n",
        "  if df['Class'][i] == 'SEKER':\n",
        "    df['Class'] = df['Class'].replace(df['Class'][i],0)\n",
        "  if df['Class'][i] == 'BARBUNYA':\n",
        "    df['Class'] = df['Class'].replace(df['Class'][i],1)\n",
        "  if df['Class'][i] == 'BOMBAY':\n",
        "    df['Class'] = df['Class'].replace(df['Class'][i],2)\n",
        "  if df['Class'][i] == 'CALI':\n",
        "    df['Class'] = df['Class'].replace(df['Class'][i],3)\n",
        "  if df['Class'][i] == 'HOROZ':\n",
        "    df['Class'] = df['Class'].replace(df['Class'][i],4)\n",
        "  if df['Class'][i] == 'SIRA':\n",
        "    df['Class'] = df['Class'].replace(df['Class'][i],5)\n",
        "  if df['Class'][i] == 'DERMASON':\n",
        "    df['Class'] = df['Class'].replace(df['Class'][i],6)"
      ]
    },
    {
      "cell_type": "code",
      "execution_count": 5,
      "metadata": {
        "colab": {
          "base_uri": "https://localhost:8080/"
        },
        "id": "fJtO2plyU9N3",
        "outputId": "b252ec78-0c18-4999-f452-424d66704db2"
      },
      "outputs": [
        {
          "name": "stdout",
          "output_type": "stream",
          "text": [
            "Şeker:2027 Barbunya:1322 Bombay:522 Calı:1630 Horoz:1928 Sıra:2636 Dermason:3546\n"
          ]
        }
      ],
      "source": [
        "print('Şeker:' + str((df['Class'] == 0).sum()) + ' Barbunya:' + str((df['Class'] == 1).sum()) + ' Bombay:' + str((df['Class'] == 2).sum())\n",
        "+ ' Calı:' +str((df['Class'] == 3).sum()) + ' Horoz:' + str((df['Class'] == 4).sum()) + ' Sıra:' + str((df['Class'] ==5).sum())\n",
        "+ ' Dermason:' + str((df['Class'] ==6).sum())) # Hangi classtan ne kadar veri olduğuna baktık."
      ]
    },
    {
      "cell_type": "code",
      "execution_count": 6,
      "metadata": {
        "id": "XxBmIyR1U9Pu"
      },
      "outputs": [],
      "source": [
        "from sklearn.model_selection import train_test_split\n",
        "from sklearn.preprocessing import StandardScaler"
      ]
    },
    {
      "cell_type": "code",
      "execution_count": 7,
      "metadata": {
        "id": "5TGuAQ0iX6ek"
      },
      "outputs": [],
      "source": [
        "X= df.drop('Class',axis=1) # Girdiler\n",
        "Y= df['Class'] # Çıktılar"
      ]
    },
    {
      "cell_type": "code",
      "execution_count": 8,
      "metadata": {
        "id": "D4qHXy2yU9Ry"
      },
      "outputs": [],
      "source": [
        "Xtrain, Xtest, Ytrain, Ytest = train_test_split(X,Y, test_size=.3, random_state=58) # Train ve Test olarak verimizi ayırdık. Sivaslı olduğum için 58 yazdım. \n",
        "Ytrain = to_categorical(Ytrain, num_classes=7) # 7 adet sınıfımız olduğu için bunu kategorize ettik.\n",
        "Ytest = to_categorical(Ytest, num_classes=7)"
      ]
    },
    {
      "cell_type": "code",
      "execution_count": 9,
      "metadata": {
        "id": "5cTW1jZIY22R"
      },
      "outputs": [],
      "source": [
        "scaler = StandardScaler()\n",
        "Xtrain = scaler.fit_transform(Xtrain) # Ölçeklendirme yaptık.\n",
        "Xtest = scaler.fit_transform(Xtest)"
      ]
    },
    {
      "cell_type": "code",
      "execution_count": 10,
      "metadata": {
        "id": "BCMn4DuzYut7"
      },
      "outputs": [],
      "source": [
        "def modelFunc(label):\n",
        "  model = Sequential(name=label)\n",
        "  \n",
        "  model.add(Dense(16, activation='relu', input_dim=16, kernel_regularizer='l2'))\n",
        "\n",
        "  model.add(Dense(64, activation='relu', kernel_regularizer='l2'))\n",
        "  model.add(Dense(16, activation='relu', kernel_regularizer='l2'))\n",
        "\n",
        "  model.add(Dense(7, activation='softmax', kernel_regularizer='l2'))\n",
        "\n",
        "  model.compile(optimizer=label, loss='categorical_crossentropy', metrics = ['acc'])\n",
        "\n",
        "  return model\n"
      ]
    },
    {
      "cell_type": "code",
      "execution_count": 11,
      "metadata": {
        "id": "D6WRsU6RaiTT"
      },
      "outputs": [],
      "source": [
        "def modelFit(model):\n",
        "  history = model.fit(Xtrain,Ytrain,batch_size=20,epochs=10, validation_split=0.2)\n",
        "  return history"
      ]
    },
    {
      "cell_type": "code",
      "execution_count": 28,
      "metadata": {
        "id": "bqpcsxsajdz_"
      },
      "outputs": [],
      "source": [
        "def modelEvaluate(model):\n",
        "  \n",
        "  test_loss, test_acc = model.evaluate(Xtest,Ytest, batch_size=20)\n",
        "  print('test acc: {0}, test_loss: {1} \\n\\n'.format(test_acc, test_loss))\n",
        "  y_pred = model.predict(Xtest)\n",
        "  from sklearn.metrics import multilabel_confusion_matrix,classification_report\n",
        "\n",
        "  confusion = multilabel_confusion_matrix(Ytest, np.round(y_pred))\n",
        "  print('Confusion Matrix: \\n',confusion)\n",
        "  print('\\n\\n')\n",
        "  print(classification_report(Ytest,np.round(y_pred)))"
      ]
    },
    {
      "cell_type": "code",
      "execution_count": 21,
      "metadata": {
        "id": "23gxpNCVXyG8"
      },
      "outputs": [],
      "source": [
        "def bestModel():\n",
        "  adam = modelFunc('adam')\n",
        "\n",
        "  adam.summary()\n",
        "\n",
        "  adam_hist = modelFit(adam)\n",
        "\n",
        "  print('Optimizer ADAM Model\\n')\n",
        "  modelEvaluate(adam)\n",
        "\n",
        "  print('\\nBirinci grafik accuracy değerlerini, ikinci grafik loss değerlerini gösterir.\\n')\n",
        "  \n",
        "  ax1 = plt.subplot(1,2,1)\n",
        "  ax1.plot(adam_hist.history['acc'], color='red')\n",
        "  ax1.plot(adam_hist.history['val_acc'], color='blue')\n",
        "  ax1.legend(['train','validation'])\n",
        "  \n",
        "  ax2 = plt.subplot(1,2,2)\n",
        "  ax2.plot(adam_hist.history['loss'], color='red')\n",
        "  ax2.plot(adam_hist.history['val_loss'], color='blue')\n",
        "  ax2.legend(['train','validation'])\n",
        "  \n",
        "  adam.save('/content/drive/MyDrive/Derin Öğrenme/data_2_model.h5')"
      ]
    },
    {
      "cell_type": "code",
      "execution_count": 29,
      "metadata": {
        "colab": {
          "base_uri": "https://localhost:8080/",
          "height": 1000
        },
        "id": "fk1fbIRHYo4K",
        "outputId": "28247dc0-b14e-493d-c18d-3a0c109807b7"
      },
      "outputs": [
        {
          "name": "stdout",
          "output_type": "stream",
          "text": [
            "Model: \"adam\"\n",
            "_________________________________________________________________\n",
            " Layer (type)                Output Shape              Param #   \n",
            "=================================================================\n",
            " dense_24 (Dense)            (None, 16)                272       \n",
            "                                                                 \n",
            " dense_25 (Dense)            (None, 64)                1088      \n",
            "                                                                 \n",
            " dense_26 (Dense)            (None, 16)                1040      \n",
            "                                                                 \n",
            " dense_27 (Dense)            (None, 7)                 119       \n",
            "                                                                 \n",
            "=================================================================\n",
            "Total params: 2,519\n",
            "Trainable params: 2,519\n",
            "Non-trainable params: 0\n",
            "_________________________________________________________________\n",
            "Epoch 1/10\n",
            "382/382 [==============================] - 2s 3ms/step - loss: 1.3135 - acc: 0.7629 - val_loss: 0.8300 - val_acc: 0.9071\n",
            "Epoch 2/10\n",
            "382/382 [==============================] - 1s 2ms/step - loss: 0.7294 - acc: 0.9169 - val_loss: 0.7008 - val_acc: 0.9119\n",
            "Epoch 3/10\n",
            "382/382 [==============================] - 1s 2ms/step - loss: 0.6465 - acc: 0.9222 - val_loss: 0.6458 - val_acc: 0.9113\n",
            "Epoch 4/10\n",
            "382/382 [==============================] - 1s 2ms/step - loss: 0.6141 - acc: 0.9168 - val_loss: 0.6301 - val_acc: 0.9029\n",
            "Epoch 5/10\n",
            "382/382 [==============================] - 1s 2ms/step - loss: 0.5944 - acc: 0.9198 - val_loss: 0.6067 - val_acc: 0.9155\n",
            "Epoch 6/10\n",
            "382/382 [==============================] - 1s 2ms/step - loss: 0.5821 - acc: 0.9228 - val_loss: 0.6072 - val_acc: 0.9045\n",
            "Epoch 7/10\n",
            "382/382 [==============================] - 1s 2ms/step - loss: 0.5731 - acc: 0.9201 - val_loss: 0.5959 - val_acc: 0.9108\n",
            "Epoch 8/10\n",
            "382/382 [==============================] - 1s 2ms/step - loss: 0.5660 - acc: 0.9227 - val_loss: 0.5948 - val_acc: 0.9061\n",
            "Epoch 9/10\n",
            "382/382 [==============================] - 1s 2ms/step - loss: 0.5607 - acc: 0.9222 - val_loss: 0.5819 - val_acc: 0.9098\n",
            "Epoch 10/10\n",
            "382/382 [==============================] - 1s 2ms/step - loss: 0.5569 - acc: 0.9231 - val_loss: 0.5800 - val_acc: 0.9077\n",
            "Optimizer ADAM Model\n",
            "\n",
            "205/205 [==============================] - 0s 1ms/step - loss: 0.5651 - acc: 0.9229\n",
            "test acc: 0.9228697419166565, test_loss: 0.5651130676269531 \n",
            "\n",
            "\n",
            "Confusion Matrix: \n",
            " [[[3455   22]\n",
            "  [  43  564]]\n",
            "\n",
            " [[3666   21]\n",
            "  [  45  352]]\n",
            "\n",
            " [[3926    0]\n",
            "  [   0  158]]\n",
            "\n",
            " [[3548   40]\n",
            "  [  32  464]]\n",
            "\n",
            " [[3494    8]\n",
            "  [  71  511]]\n",
            "\n",
            " [[3247   63]\n",
            "  [ 125  649]]\n",
            "\n",
            " [[2917   97]\n",
            "  [  66 1004]]]\n",
            "\n",
            "\n",
            "\n",
            "              precision    recall  f1-score   support\n",
            "\n",
            "           0       0.96      0.93      0.95       607\n",
            "           1       0.94      0.89      0.91       397\n",
            "           2       1.00      1.00      1.00       158\n",
            "           3       0.92      0.94      0.93       496\n",
            "           4       0.98      0.88      0.93       582\n",
            "           5       0.91      0.84      0.87       774\n",
            "           6       0.91      0.94      0.92      1070\n",
            "\n",
            "   micro avg       0.94      0.91      0.92      4084\n",
            "   macro avg       0.95      0.92      0.93      4084\n",
            "weighted avg       0.94      0.91      0.92      4084\n",
            " samples avg       0.91      0.91      0.91      4084\n",
            "\n",
            "\n",
            "Birinci grafik accuracy değerlerini, ikinci grafik loss değerlerini gösterir.\n",
            "\n"
          ]
        },
        {
          "name": "stderr",
          "output_type": "stream",
          "text": [
            "/usr/local/lib/python3.7/dist-packages/sklearn/metrics/_classification.py:1318: UndefinedMetricWarning: Precision and F-score are ill-defined and being set to 0.0 in samples with no predicted labels. Use `zero_division` parameter to control this behavior.\n",
            "  _warn_prf(average, modifier, msg_start, len(result))\n"
          ]
        },
        {
          "data": {
            "image/png": "[encoded data removed]",
            "text/plain": [
              "<Figure size 432x288 with 2 Axes>"
            ]
          },
          "metadata": {
            "needs_background": "light"
          },
          "output_type": "display_data"
        }
      ],
      "source": [
        "bestModel()"
      ]
    },
    {
      "cell_type": "code",
      "execution_count": null,
      "metadata": {
        "id": "0rkaY8v6rdMX"
      },
      "outputs": [],
      "source": [
        "# Farklı optimizasyon algoritmaları ile modelimizi oluşturduk.\n",
        "adam = modelFunc('adam')\n",
        "adamax = modelFunc('adamax')\n",
        "rmsprop = modelFunc('rmsprop')\n",
        "sgd = modelFunc('sgd')\n",
        "adadelta = modelFunc('adadelta')\n",
        "adagrad = modelFunc('adagrad')\n",
        "ftrl = modelFunc('ftrl')\n",
        "nadam = modelFunc('nadam')"
      ]
    },
    {
      "cell_type": "markdown",
      "metadata": {
        "id": "1nFJxNrKR97L"
      },
      "source": [
        " ***Aşağıda adımlarda farklı optimizasyon algoritmaları kullanarak training yaptık.***\n"
      ]
    },
    {
      "cell_type": "code",
      "execution_count": null,
      "metadata": {
        "colab": {
          "base_uri": "https://localhost:8080/"
        },
        "id": "hUbjy5dwrzsg",
        "outputId": "cfacb42b-8e14-492c-9682-0b58bfa743a4"
      },
      "outputs": [
        {
          "name": "stdout",
          "output_type": "stream",
          "text": [
            "Epoch 1/10\n",
            "382/382 [==============================] - 1s 3ms/step - loss: 0.3154 - acc: 0.9240 - val_loss: 0.3309 - val_acc: 0.9187\n",
            "Epoch 2/10\n",
            "382/382 [==============================] - 1s 2ms/step - loss: 0.3107 - acc: 0.9223 - val_loss: 0.3350 - val_acc: 0.9155\n",
            "Epoch 3/10\n",
            "382/382 [==============================] - 1s 2ms/step - loss: 0.3078 - acc: 0.9239 - val_loss: 0.3218 - val_acc: 0.9166\n",
            "Epoch 4/10\n",
            "382/382 [==============================] - 1s 2ms/step - loss: 0.3027 - acc: 0.9218 - val_loss: 0.3228 - val_acc: 0.9166\n",
            "Epoch 5/10\n",
            "382/382 [==============================] - 1s 2ms/step - loss: 0.2972 - acc: 0.9244 - val_loss: 0.3205 - val_acc: 0.9161\n",
            "Epoch 6/10\n",
            "382/382 [==============================] - 1s 2ms/step - loss: 0.2930 - acc: 0.9231 - val_loss: 0.3090 - val_acc: 0.9187\n",
            "Epoch 7/10\n",
            "382/382 [==============================] - 1s 2ms/step - loss: 0.2895 - acc: 0.9206 - val_loss: 0.3077 - val_acc: 0.9166\n",
            "Epoch 8/10\n",
            "382/382 [==============================] - 1s 2ms/step - loss: 0.2882 - acc: 0.9256 - val_loss: 0.3076 - val_acc: 0.9203\n",
            "Epoch 9/10\n",
            "382/382 [==============================] - 1s 2ms/step - loss: 0.2867 - acc: 0.9238 - val_loss: 0.3020 - val_acc: 0.9203\n",
            "Epoch 10/10\n",
            "382/382 [==============================] - 1s 2ms/step - loss: 0.2852 - acc: 0.9249 - val_loss: 0.3000 - val_acc: 0.9197\n"
          ]
        }
      ],
      "source": [
        "adam_hist = modelFit(adam)"
      ]
    },
    {
      "cell_type": "code",
      "execution_count": null,
      "metadata": {
        "colab": {
          "base_uri": "https://localhost:8080/"
        },
        "id": "d28msE_LrzzK",
        "outputId": "dab9fc48-cd10-48ec-9bd0-4cd340109e2f"
      },
      "outputs": [
        {
          "name": "stdout",
          "output_type": "stream",
          "text": [
            "Epoch 1/10\n",
            "382/382 [==============================] - 1s 2ms/step - loss: 0.3999 - acc: 0.9249 - val_loss: 0.4136 - val_acc: 0.9161\n",
            "Epoch 2/10\n",
            "382/382 [==============================] - 1s 2ms/step - loss: 0.3888 - acc: 0.9259 - val_loss: 0.4042 - val_acc: 0.9134\n",
            "Epoch 3/10\n",
            "382/382 [==============================] - 1s 2ms/step - loss: 0.3804 - acc: 0.9242 - val_loss: 0.3956 - val_acc: 0.9197\n",
            "Epoch 4/10\n",
            "382/382 [==============================] - 1s 2ms/step - loss: 0.3733 - acc: 0.9260 - val_loss: 0.3909 - val_acc: 0.9192\n",
            "Epoch 5/10\n",
            "382/382 [==============================] - 1s 2ms/step - loss: 0.3661 - acc: 0.9243 - val_loss: 0.3908 - val_acc: 0.9066\n",
            "Epoch 6/10\n",
            "382/382 [==============================] - 1s 2ms/step - loss: 0.3611 - acc: 0.9248 - val_loss: 0.3781 - val_acc: 0.9150\n",
            "Epoch 7/10\n",
            "382/382 [==============================] - 1s 2ms/step - loss: 0.3555 - acc: 0.9260 - val_loss: 0.3742 - val_acc: 0.9171\n",
            "Epoch 8/10\n",
            "382/382 [==============================] - 1s 2ms/step - loss: 0.3506 - acc: 0.9242 - val_loss: 0.3681 - val_acc: 0.9197\n",
            "Epoch 9/10\n",
            "382/382 [==============================] - 1s 2ms/step - loss: 0.3453 - acc: 0.9246 - val_loss: 0.3636 - val_acc: 0.9182\n",
            "Epoch 10/10\n",
            "382/382 [==============================] - 1s 2ms/step - loss: 0.3420 - acc: 0.9244 - val_loss: 0.3598 - val_acc: 0.9182\n"
          ]
        }
      ],
      "source": [
        "adamax_hist = modelFit(adamax)"
      ]
    },
    {
      "cell_type": "code",
      "execution_count": null,
      "metadata": {
        "colab": {
          "base_uri": "https://localhost:8080/"
        },
        "id": "WIGu7qlgrz47",
        "outputId": "944a9611-e8a0-4b66-ef01-ed29365a9aa2"
      },
      "outputs": [
        {
          "name": "stdout",
          "output_type": "stream",
          "text": [
            "Epoch 1/10\n",
            "382/382 [==============================] - 1s 2ms/step - loss: 0.3081 - acc: 0.9223 - val_loss: 0.3365 - val_acc: 0.9087\n",
            "Epoch 2/10\n",
            "382/382 [==============================] - 1s 2ms/step - loss: 0.3026 - acc: 0.9236 - val_loss: 0.3374 - val_acc: 0.9108\n",
            "Epoch 3/10\n",
            "382/382 [==============================] - 1s 2ms/step - loss: 0.2975 - acc: 0.9223 - val_loss: 0.3369 - val_acc: 0.9077\n",
            "Epoch 4/10\n",
            "382/382 [==============================] - 1s 2ms/step - loss: 0.2950 - acc: 0.9219 - val_loss: 0.3299 - val_acc: 0.9071\n",
            "Epoch 5/10\n",
            "382/382 [==============================] - 1s 2ms/step - loss: 0.2926 - acc: 0.9251 - val_loss: 0.3236 - val_acc: 0.9045\n",
            "Epoch 6/10\n",
            "382/382 [==============================] - 1s 2ms/step - loss: 0.2903 - acc: 0.9225 - val_loss: 0.3129 - val_acc: 0.9176\n",
            "Epoch 7/10\n",
            "382/382 [==============================] - 1s 2ms/step - loss: 0.2872 - acc: 0.9234 - val_loss: 0.3058 - val_acc: 0.9176\n",
            "Epoch 8/10\n",
            "382/382 [==============================] - 1s 2ms/step - loss: 0.2852 - acc: 0.9243 - val_loss: 0.3061 - val_acc: 0.9124\n",
            "Epoch 9/10\n",
            "382/382 [==============================] - 1s 2ms/step - loss: 0.2811 - acc: 0.9239 - val_loss: 0.3180 - val_acc: 0.9056\n",
            "Epoch 10/10\n",
            "382/382 [==============================] - 1s 2ms/step - loss: 0.2796 - acc: 0.9256 - val_loss: 0.2988 - val_acc: 0.9182\n"
          ]
        }
      ],
      "source": [
        "rmsprop_hist = modelFit(rmsprop)"
      ]
    },
    {
      "cell_type": "code",
      "execution_count": null,
      "metadata": {
        "colab": {
          "base_uri": "https://localhost:8080/"
        },
        "id": "67XGwOCJrz-G",
        "outputId": "1e513c40-7188-474b-e9b4-1f1b76846184"
      },
      "outputs": [
        {
          "name": "stdout",
          "output_type": "stream",
          "text": [
            "Epoch 1/10\n",
            "382/382 [==============================] - 1s 2ms/step - loss: 0.5496 - acc: 0.9228 - val_loss: 0.5549 - val_acc: 0.9140\n",
            "Epoch 2/10\n",
            "382/382 [==============================] - 1s 2ms/step - loss: 0.5249 - acc: 0.9236 - val_loss: 0.5348 - val_acc: 0.9113\n",
            "Epoch 3/10\n",
            "382/382 [==============================] - 1s 2ms/step - loss: 0.5043 - acc: 0.9226 - val_loss: 0.5139 - val_acc: 0.9129\n",
            "Epoch 4/10\n",
            "382/382 [==============================] - 1s 2ms/step - loss: 0.4856 - acc: 0.9219 - val_loss: 0.4972 - val_acc: 0.9150\n",
            "Epoch 5/10\n",
            "382/382 [==============================] - 1s 2ms/step - loss: 0.4697 - acc: 0.9249 - val_loss: 0.4826 - val_acc: 0.9161\n",
            "Epoch 6/10\n",
            "382/382 [==============================] - 1s 2ms/step - loss: 0.4559 - acc: 0.9239 - val_loss: 0.4695 - val_acc: 0.9134\n",
            "Epoch 7/10\n",
            "382/382 [==============================] - 1s 2ms/step - loss: 0.4437 - acc: 0.9246 - val_loss: 0.4577 - val_acc: 0.9140\n",
            "Epoch 8/10\n",
            "382/382 [==============================] - 1s 2ms/step - loss: 0.4326 - acc: 0.9251 - val_loss: 0.4481 - val_acc: 0.9176\n",
            "Epoch 9/10\n",
            "382/382 [==============================] - 1s 2ms/step - loss: 0.4232 - acc: 0.9239 - val_loss: 0.4409 - val_acc: 0.9145\n",
            "Epoch 10/10\n",
            "382/382 [==============================] - 1s 2ms/step - loss: 0.4145 - acc: 0.9264 - val_loss: 0.4349 - val_acc: 0.9103\n"
          ]
        }
      ],
      "source": [
        "sgd_hist = modelFit(sgd)"
      ]
    },
    {
      "cell_type": "code",
      "execution_count": null,
      "metadata": {
        "colab": {
          "base_uri": "https://localhost:8080/"
        },
        "id": "iLHgK4Vqr0Ds",
        "outputId": "0a73aa2a-6818-4782-9721-66fa282a14e4"
      },
      "outputs": [
        {
          "name": "stdout",
          "output_type": "stream",
          "text": [
            "Epoch 1/10\n",
            "382/382 [==============================] - 1s 2ms/step - loss: 2.5141 - acc: 0.3601 - val_loss: 2.4920 - val_acc: 0.3730\n",
            "Epoch 2/10\n",
            "382/382 [==============================] - 1s 2ms/step - loss: 2.4946 - acc: 0.3658 - val_loss: 2.4725 - val_acc: 0.3799\n",
            "Epoch 3/10\n",
            "382/382 [==============================] - 1s 2ms/step - loss: 2.4749 - acc: 0.3741 - val_loss: 2.4530 - val_acc: 0.3909\n",
            "Epoch 4/10\n",
            "382/382 [==============================] - 1s 2ms/step - loss: 2.4553 - acc: 0.3834 - val_loss: 2.4340 - val_acc: 0.3982\n",
            "Epoch 5/10\n",
            "382/382 [==============================] - 1s 2ms/step - loss: 2.4363 - acc: 0.3889 - val_loss: 2.4153 - val_acc: 0.4045\n",
            "Epoch 6/10\n",
            "382/382 [==============================] - 1s 2ms/step - loss: 2.4177 - acc: 0.3975 - val_loss: 2.3972 - val_acc: 0.4155\n",
            "Epoch 7/10\n",
            "382/382 [==============================] - 1s 2ms/step - loss: 2.3992 - acc: 0.4077 - val_loss: 2.3787 - val_acc: 0.4260\n",
            "Epoch 8/10\n",
            "382/382 [==============================] - 1s 2ms/step - loss: 2.3808 - acc: 0.4148 - val_loss: 2.3607 - val_acc: 0.4365\n",
            "Epoch 9/10\n",
            "382/382 [==============================] - 1s 2ms/step - loss: 2.3626 - acc: 0.4233 - val_loss: 2.3428 - val_acc: 0.4412\n",
            "Epoch 10/10\n",
            "382/382 [==============================] - 1s 2ms/step - loss: 2.3445 - acc: 0.4334 - val_loss: 2.3248 - val_acc: 0.4475\n"
          ]
        }
      ],
      "source": [
        "adadelta_hist = modelFit(adadelta)"
      ]
    },
    {
      "cell_type": "code",
      "execution_count": null,
      "metadata": {
        "colab": {
          "base_uri": "https://localhost:8080/"
        },
        "id": "gzvIwPASr0JM",
        "outputId": "881571ab-8e56-4bd4-b8c4-af4b80858199"
      },
      "outputs": [
        {
          "name": "stdout",
          "output_type": "stream",
          "text": [
            "Epoch 1/10\n",
            "382/382 [==============================] - 1s 2ms/step - loss: 1.2130 - acc: 0.8344 - val_loss: 1.2103 - val_acc: 0.8316\n",
            "Epoch 2/10\n",
            "382/382 [==============================] - 1s 2ms/step - loss: 1.1801 - acc: 0.8449 - val_loss: 1.1799 - val_acc: 0.8368\n",
            "Epoch 3/10\n",
            "382/382 [==============================] - 1s 2ms/step - loss: 1.1505 - acc: 0.8509 - val_loss: 1.1525 - val_acc: 0.8447\n",
            "Epoch 4/10\n",
            "382/382 [==============================] - 1s 2ms/step - loss: 1.1238 - acc: 0.8583 - val_loss: 1.1275 - val_acc: 0.8526\n",
            "Epoch 5/10\n",
            "382/382 [==============================] - 1s 2ms/step - loss: 1.0994 - acc: 0.8627 - val_loss: 1.1047 - val_acc: 0.8578\n",
            "Epoch 6/10\n",
            "382/382 [==============================] - 1s 2ms/step - loss: 1.0772 - acc: 0.8660 - val_loss: 1.0838 - val_acc: 0.8641\n",
            "Epoch 7/10\n",
            "382/382 [==============================] - 1s 2ms/step - loss: 1.0567 - acc: 0.8683 - val_loss: 1.0646 - val_acc: 0.8688\n",
            "Epoch 8/10\n",
            "382/382 [==============================] - 1s 2ms/step - loss: 1.0379 - acc: 0.8705 - val_loss: 1.0468 - val_acc: 0.8688\n",
            "Epoch 9/10\n",
            "382/382 [==============================] - 1s 2ms/step - loss: 1.0204 - acc: 0.8743 - val_loss: 1.0302 - val_acc: 0.8715\n",
            "Epoch 10/10\n",
            "382/382 [==============================] - 1s 2ms/step - loss: 1.0040 - acc: 0.8780 - val_loss: 1.0146 - val_acc: 0.8715\n"
          ]
        }
      ],
      "source": [
        "adagrad_hist = modelFit(adagrad)"
      ]
    },
    {
      "cell_type": "code",
      "execution_count": null,
      "metadata": {
        "colab": {
          "base_uri": "https://localhost:8080/"
        },
        "id": "O4SSjVDLQWfm",
        "outputId": "bd86190e-321f-4132-93d1-7a80ddc6c0fd"
      },
      "outputs": [
        {
          "name": "stdout",
          "output_type": "stream",
          "text": [
            "Epoch 1/10\n",
            "382/382 [==============================] - 1s 2ms/step - loss: 1.9205 - acc: 0.2573 - val_loss: 1.9171 - val_acc: 0.2702\n",
            "Epoch 2/10\n",
            "382/382 [==============================] - 1s 2ms/step - loss: 1.9194 - acc: 0.2573 - val_loss: 1.9159 - val_acc: 0.2702\n",
            "Epoch 3/10\n",
            "382/382 [==============================] - 1s 2ms/step - loss: 1.9183 - acc: 0.2573 - val_loss: 1.9148 - val_acc: 0.2702\n",
            "Epoch 4/10\n",
            "382/382 [==============================] - 1s 2ms/step - loss: 1.9173 - acc: 0.2573 - val_loss: 1.9137 - val_acc: 0.2702\n",
            "Epoch 5/10\n",
            "382/382 [==============================] - 1s 2ms/step - loss: 1.9163 - acc: 0.2573 - val_loss: 1.9126 - val_acc: 0.2702\n",
            "Epoch 6/10\n",
            "382/382 [==============================] - 1s 2ms/step - loss: 1.9154 - acc: 0.2573 - val_loss: 1.9116 - val_acc: 0.2702\n",
            "Epoch 7/10\n",
            "382/382 [==============================] - 1s 2ms/step - loss: 1.9145 - acc: 0.2573 - val_loss: 1.9106 - val_acc: 0.2702\n",
            "Epoch 8/10\n",
            "382/382 [==============================] - 1s 2ms/step - loss: 1.9136 - acc: 0.2573 - val_loss: 1.9096 - val_acc: 0.2702\n",
            "Epoch 9/10\n",
            "382/382 [==============================] - 1s 2ms/step - loss: 1.9128 - acc: 0.2573 - val_loss: 1.9087 - val_acc: 0.2702\n",
            "Epoch 10/10\n",
            "382/382 [==============================] - 1s 2ms/step - loss: 1.9119 - acc: 0.2573 - val_loss: 1.9077 - val_acc: 0.2702\n"
          ]
        }
      ],
      "source": [
        "ftrl_hist = modelFit(ftrl)"
      ]
    },
    {
      "cell_type": "code",
      "execution_count": null,
      "metadata": {
        "colab": {
          "base_uri": "https://localhost:8080/"
        },
        "id": "HDbwvjRkQWnd",
        "outputId": "2172ddbc-66d6-4ea7-80d3-dcf1ece7cf8c"
      },
      "outputs": [
        {
          "name": "stdout",
          "output_type": "stream",
          "text": [
            "Epoch 1/10\n",
            "382/382 [==============================] - 1s 2ms/step - loss: 0.3114 - acc: 0.9272 - val_loss: 0.3283 - val_acc: 0.9150\n",
            "Epoch 2/10\n",
            "382/382 [==============================] - 1s 2ms/step - loss: 0.3067 - acc: 0.9247 - val_loss: 0.3282 - val_acc: 0.9150\n",
            "Epoch 3/10\n",
            "382/382 [==============================] - 1s 2ms/step - loss: 0.3021 - acc: 0.9239 - val_loss: 0.3255 - val_acc: 0.9150\n",
            "Epoch 4/10\n",
            "382/382 [==============================] - 1s 2ms/step - loss: 0.2984 - acc: 0.9255 - val_loss: 0.3295 - val_acc: 0.9145\n",
            "Epoch 5/10\n",
            "382/382 [==============================] - 1s 2ms/step - loss: 0.2952 - acc: 0.9268 - val_loss: 0.3253 - val_acc: 0.9050\n",
            "Epoch 6/10\n",
            "382/382 [==============================] - 1s 2ms/step - loss: 0.2913 - acc: 0.9235 - val_loss: 0.3083 - val_acc: 0.9203\n",
            "Epoch 7/10\n",
            "382/382 [==============================] - 1s 2ms/step - loss: 0.2894 - acc: 0.9261 - val_loss: 0.3154 - val_acc: 0.9155\n",
            "Epoch 8/10\n",
            "382/382 [==============================] - 1s 2ms/step - loss: 0.2867 - acc: 0.9257 - val_loss: 0.3247 - val_acc: 0.9140\n",
            "Epoch 9/10\n",
            "382/382 [==============================] - 1s 2ms/step - loss: 0.2835 - acc: 0.9247 - val_loss: 0.3419 - val_acc: 0.8987\n",
            "Epoch 10/10\n",
            "382/382 [==============================] - 1s 2ms/step - loss: 0.2843 - acc: 0.9248 - val_loss: 0.3070 - val_acc: 0.9171\n"
          ]
        }
      ],
      "source": [
        "nadam_hist = modelFit(nadam)"
      ]
    },
    {
      "cell_type": "markdown",
      "metadata": {
        "id": "nTUtnsVuSbBi"
      },
      "source": [
        "***Bir fonksiyon ile eğittiğimiz modelin validation accuracy ve loss değerlerinin grafiğini çizdik.***"
      ]
    },
    {
      "cell_type": "code",
      "execution_count": null,
      "metadata": {
        "id": "qaiUKjoVbLIJ"
      },
      "outputs": [],
      "source": [
        "def plotAcc(adam,adamax,rmsprop,sgd,adadelta,adagrad,ftrl,nadam,adam_text,adamax_text,rmsprop_text,sgd_text,adadelta_text,adagrad_text,ftrl_text,nadam_text):\n",
        "    plt.ylabel('Validation Accuracy')\n",
        "    plt.xlabel('Epochs')\n",
        "    plt.plot(adam.history['val_acc'], color='blue')\n",
        "    plt.plot(adamax.history['val_acc'], color='orange')\n",
        "    plt.plot(rmsprop.history['val_acc'], color='black')\n",
        "    plt.plot(sgd.history['val_acc'], color='green')\n",
        "    plt.plot(adadelta.history['val_acc'], color='red')\n",
        "    plt.plot(adagrad.history['val_acc'], color='purple')\n",
        "    plt.plot(adadelta.history['val_acc'], color='gray')\n",
        "    plt.plot(adagrad.history['val_acc'], color='pink')\n",
        "    plt.legend([adam_text,adamax_text,rmsprop_text,sgd_text,adadelta_text,adagrad_text,ftrl_text,nadam_text])\n",
        "    plt.show()"
      ]
    },
    {
      "cell_type": "code",
      "execution_count": null,
      "metadata": {
        "id": "Bca62t63b6E_"
      },
      "outputs": [],
      "source": [
        "def plotLoss(adam,adamax,rmsprop,sgd,adadelta,adagrad,ftrl,nadam,adam_text,adamax_text,rmsprop_text,sgd_text,adadelta_text,adagrad_text,ftrl_text,nadam_text):\n",
        "    plt.ylabel('Loss')\n",
        "    plt.xlabel('Epochs')\n",
        "    plt.plot(adam.history['loss'], color='blue')\n",
        "    plt.plot(adamax.history['loss'], color='orange')\n",
        "    plt.plot(rmsprop.history['loss'], color='black')\n",
        "    plt.plot(sgd.history['loss'], color='green')\n",
        "    plt.plot(adadelta.history['loss'], color='red')\n",
        "    plt.plot(adagrad.history['loss'], color='purple')\n",
        "    plt.plot(adadelta.history['loss'], color='gray')\n",
        "    plt.plot(adagrad.history['loss'], color='pink')\n",
        "    plt.legend([adam_text,adamax_text,rmsprop_text,sgd_text,adadelta_text,adagrad_text,ftrl_text,nadam_text])\n",
        "    plt.show()"
      ]
    },
    {
      "cell_type": "code",
      "execution_count": null,
      "metadata": {
        "colab": {
          "base_uri": "https://localhost:8080/"
        },
        "id": "yKDBbtTGsEFw",
        "outputId": "b18ada21-7e28-4cb2-ffb6-45bdd988a365"
      },
      "outputs": [
        {
          "data": {
            "image/png": "[encoded data removed]",
            "text/plain": [
              "<Figure size 432x288 with 1 Axes>"
            ]
          },
          "metadata": {
            "needs_background": "light"
          },
          "output_type": "display_data"
        }
      ],
      "source": [
        "plotAcc(adam_hist,adamax_hist,rmsprop_hist,sgd_hist,adadelta_hist,adagrad_hist,ftrl_hist,nadam_hist,'adam','adamax','rmsprop','sgd','adadelta','adagrad','ftrl','nadam')"
      ]
    },
    {
      "cell_type": "code",
      "execution_count": null,
      "metadata": {
        "colab": {
          "base_uri": "https://localhost:8080/",
          "height": 279
        },
        "id": "NHpwDkpwsENm",
        "outputId": "e32acecf-9226-4005-cd6d-c568bc807b38"
      },
      "outputs": [
        {
          "data": {
            "image/png": "[encoded data removed]",
            "text/plain": [
              "<Figure size 432x288 with 1 Axes>"
            ]
          },
          "metadata": {
            "needs_background": "light"
          },
          "output_type": "display_data"
        }
      ],
      "source": [
        "plotLoss(adam_hist,adamax_hist,rmsprop_hist,sgd_hist,adadelta_hist,adagrad_hist,ftrl_hist,nadam_hist,'adam','adamax','rmsprop','sgd','adadelta','adagrad','ftrl','nadam')"
      ]
    },
    {
      "cell_type": "code",
      "execution_count": null,
      "metadata": {
        "colab": {
          "base_uri": "https://localhost:8080/"
        },
        "id": "RCTvmEAoV8U0",
        "outputId": "e10c905b-0cd2-4336-c83b-891e80ceda49"
      },
      "outputs": [
        {
          "name": "stdout",
          "output_type": "stream",
          "text": [
            "Optimizer RMSPROP Model\n",
            "\n",
            "205/205 [==============================] - 0s 2ms/step - loss: 0.2841 - acc: 0.9263\n",
            "test acc: 0.9262977242469788, test_loss: 0.2840884327888489 \n",
            "\n",
            "\n",
            "              precision    recall  f1-score   support\n",
            "\n",
            "           0       0.97      0.93      0.95       607\n",
            "           1       0.94      0.90      0.92       397\n",
            "           2       1.00      0.97      0.99       158\n",
            "           3       0.92      0.94      0.93       496\n",
            "           4       0.98      0.93      0.95       582\n",
            "           5       0.89      0.87      0.88       774\n",
            "           6       0.92      0.93      0.92      1070\n",
            "\n",
            "   micro avg       0.93      0.92      0.93      4084\n",
            "   macro avg       0.95      0.93      0.94      4084\n",
            "weighted avg       0.94      0.92      0.93      4084\n",
            " samples avg       0.92      0.92      0.92      4084\n",
            "\n"
          ]
        },
        {
          "name": "stderr",
          "output_type": "stream",
          "text": [
            "/usr/local/lib/python3.7/dist-packages/sklearn/metrics/_classification.py:1318: UndefinedMetricWarning: Precision and F-score are ill-defined and being set to 0.0 in samples with no predicted labels. Use `zero_division` parameter to control this behavior.\n",
            "  _warn_prf(average, modifier, msg_start, len(result))\n"
          ]
        }
      ],
      "source": [
        "print('Optimizer RMSPROP Model\\n')\n",
        "modelEvaluate(rmsprop)"
      ]
    },
    {
      "cell_type": "code",
      "execution_count": null,
      "metadata": {
        "colab": {
          "base_uri": "https://localhost:8080/"
        },
        "id": "IXUIwGHVV8Ye",
        "outputId": "4bcd2c57-0911-4d73-c1bb-cdcc8da6b14f"
      },
      "outputs": [
        {
          "name": "stdout",
          "output_type": "stream",
          "text": [
            "Optimizer NADAM Model\n",
            "\n",
            "205/205 [==============================] - 0s 2ms/step - loss: 0.2875 - acc: 0.9270\n",
            "test acc: 0.9270322918891907, test_loss: 0.28745153546333313 \n",
            "\n",
            "\n",
            "              precision    recall  f1-score   support\n",
            "\n",
            "           0       0.97      0.93      0.95       607\n",
            "           1       0.95      0.91      0.93       397\n",
            "           2       1.00      1.00      1.00       158\n",
            "           3       0.92      0.94      0.93       496\n",
            "           4       0.96      0.92      0.94       582\n",
            "           5       0.92      0.82      0.87       774\n",
            "           6       0.91      0.95      0.93      1070\n",
            "\n",
            "   micro avg       0.94      0.92      0.93      4084\n",
            "   macro avg       0.95      0.93      0.94      4084\n",
            "weighted avg       0.94      0.92      0.92      4084\n",
            " samples avg       0.92      0.92      0.92      4084\n",
            "\n"
          ]
        },
        {
          "name": "stderr",
          "output_type": "stream",
          "text": [
            "/usr/local/lib/python3.7/dist-packages/sklearn/metrics/_classification.py:1318: UndefinedMetricWarning: Precision and F-score are ill-defined and being set to 0.0 in samples with no predicted labels. Use `zero_division` parameter to control this behavior.\n",
            "  _warn_prf(average, modifier, msg_start, len(result))\n"
          ]
        }
      ],
      "source": [
        "print('Optimizer NADAM Model\\n')\n",
        "modelEvaluate(nadam)"
      ]
    },
    {
      "cell_type": "code",
      "execution_count": null,
      "metadata": {
        "colab": {
          "base_uri": "https://localhost:8080/"
        },
        "id": "k5oqMULUqhuO",
        "outputId": "f6145cd6-aca1-493b-a885-35f70409a0d4"
      },
      "outputs": [
        {
          "name": "stdout",
          "output_type": "stream",
          "text": [
            "Optimizer ADAM Model\n",
            "\n",
            "205/205 [==============================] - 0s 1ms/step - loss: 0.2851 - acc: 0.9268\n",
            "test acc: 0.9267874360084534, test_loss: 0.2851073741912842 \n",
            "\n",
            "\n",
            "              precision    recall  f1-score   support\n",
            "\n",
            "           0       0.97      0.93      0.95       607\n",
            "           1       0.94      0.91      0.92       397\n",
            "           2       1.00      1.00      1.00       158\n",
            "           3       0.94      0.94      0.94       496\n",
            "           4       0.97      0.93      0.95       582\n",
            "           5       0.90      0.86      0.88       774\n",
            "           6       0.92      0.94      0.93      1070\n",
            "\n",
            "   micro avg       0.94      0.92      0.93      4084\n",
            "   macro avg       0.95      0.93      0.94      4084\n",
            "weighted avg       0.94      0.92      0.93      4084\n",
            " samples avg       0.92      0.92      0.92      4084\n",
            "\n"
          ]
        },
        {
          "name": "stderr",
          "output_type": "stream",
          "text": [
            "/usr/local/lib/python3.7/dist-packages/sklearn/metrics/_classification.py:1318: UndefinedMetricWarning: Precision and F-score are ill-defined and being set to 0.0 in samples with no predicted labels. Use `zero_division` parameter to control this behavior.\n",
            "  _warn_prf(average, modifier, msg_start, len(result))\n"
          ]
        }
      ],
      "source": [
        "print('Optimizer ADAM Model\\n')\n",
        "modelEvaluate(adam)"
      ]
    },
    {
      "cell_type": "code",
      "execution_count": null,
      "metadata": {
        "colab": {
          "base_uri": "https://localhost:8080/"
        },
        "id": "anV4v_2mV8Sa",
        "outputId": "bfc5655e-9363-4835-a659-54c07292f804"
      },
      "outputs": [
        {
          "name": "stdout",
          "output_type": "stream",
          "text": [
            "Optimizer ADAMAX Model\n",
            "\n",
            "205/205 [==============================] - 0s 1ms/step - loss: 0.3447 - acc: 0.9216\n",
            "test acc: 0.92164546251297, test_loss: 0.344737708568573 \n",
            "\n",
            "\n",
            "              precision    recall  f1-score   support\n",
            "\n",
            "           0       0.97      0.92      0.95       607\n",
            "           1       0.95      0.89      0.92       397\n",
            "           2       1.00      0.99      1.00       158\n",
            "           3       0.92      0.95      0.93       496\n",
            "           4       0.97      0.92      0.94       582\n",
            "           5       0.88      0.87      0.87       774\n",
            "           6       0.93      0.92      0.92      1070\n",
            "\n",
            "   micro avg       0.93      0.91      0.92      4084\n",
            "   macro avg       0.94      0.92      0.93      4084\n",
            "weighted avg       0.93      0.91      0.92      4084\n",
            " samples avg       0.91      0.91      0.91      4084\n",
            "\n"
          ]
        },
        {
          "name": "stderr",
          "output_type": "stream",
          "text": [
            "/usr/local/lib/python3.7/dist-packages/sklearn/metrics/_classification.py:1318: UndefinedMetricWarning: Precision and F-score are ill-defined and being set to 0.0 in samples with no predicted labels. Use `zero_division` parameter to control this behavior.\n",
            "  _warn_prf(average, modifier, msg_start, len(result))\n"
          ]
        }
      ],
      "source": [
        "print('Optimizer ADAMAX Model\\n')\n",
        "modelEvaluate(adamax)"
      ]
    },
    {
      "cell_type": "code",
      "execution_count": null,
      "metadata": {
        "colab": {
          "base_uri": "https://localhost:8080/"
        },
        "id": "I4R9tqZ2WLvS",
        "outputId": "6f10f225-f0af-432a-ca88-927906caf1c1"
      },
      "outputs": [
        {
          "name": "stdout",
          "output_type": "stream",
          "text": [
            "Optimizer SGD Model\n",
            "\n",
            "205/205 [==============================] - 0s 1ms/step - loss: 0.4202 - acc: 0.9199\n",
            "test acc: 0.9199314117431641, test_loss: 0.42017868161201477 \n",
            "\n",
            "\n",
            "              precision    recall  f1-score   support\n",
            "\n",
            "           0       0.97      0.91      0.94       607\n",
            "           1       0.94      0.89      0.92       397\n",
            "           2       1.00      0.99      1.00       158\n",
            "           3       0.94      0.93      0.93       496\n",
            "           4       0.98      0.92      0.95       582\n",
            "           5       0.84      0.90      0.87       774\n",
            "           6       0.94      0.88      0.91      1070\n",
            "\n",
            "   micro avg       0.93      0.90      0.92      4084\n",
            "   macro avg       0.95      0.92      0.93      4084\n",
            "weighted avg       0.93      0.90      0.92      4084\n",
            " samples avg       0.90      0.90      0.90      4084\n",
            "\n"
          ]
        },
        {
          "name": "stderr",
          "output_type": "stream",
          "text": [
            "/usr/local/lib/python3.7/dist-packages/sklearn/metrics/_classification.py:1318: UndefinedMetricWarning: Precision and F-score are ill-defined and being set to 0.0 in samples with no predicted labels. Use `zero_division` parameter to control this behavior.\n",
            "  _warn_prf(average, modifier, msg_start, len(result))\n"
          ]
        }
      ],
      "source": [
        "print('Optimizer SGD Model\\n')\n",
        "modelEvaluate(sgd)"
      ]
    },
    {
      "cell_type": "code",
      "execution_count": null,
      "metadata": {
        "colab": {
          "base_uri": "https://localhost:8080/"
        },
        "id": "1EKit45BV-EQ",
        "outputId": "52631d5f-4944-4aa7-f67b-a3e6581606e4"
      },
      "outputs": [
        {
          "name": "stdout",
          "output_type": "stream",
          "text": [
            "Optimizer ADAGRAD Model\n",
            "\n",
            "205/205 [==============================] - 0s 1ms/step - loss: 0.9990 - acc: 0.8812\n",
            "test acc: 0.881243884563446, test_loss: 0.9990484714508057 \n",
            "\n",
            "\n",
            "              precision    recall  f1-score   support\n",
            "\n",
            "           0       0.96      0.92      0.94       607\n",
            "           1       0.97      0.72      0.83       397\n",
            "           2       1.00      0.93      0.96       158\n",
            "           3       0.94      0.79      0.86       496\n",
            "           4       0.96      0.91      0.93       582\n",
            "           5       0.85      0.18      0.30       774\n",
            "           6       0.90      0.92      0.91      1070\n",
            "\n",
            "   micro avg       0.93      0.74      0.83      4084\n",
            "   macro avg       0.94      0.77      0.82      4084\n",
            "weighted avg       0.92      0.74      0.79      4084\n",
            " samples avg       0.74      0.74      0.74      4084\n",
            "\n"
          ]
        },
        {
          "name": "stderr",
          "output_type": "stream",
          "text": [
            "/usr/local/lib/python3.7/dist-packages/sklearn/metrics/_classification.py:1318: UndefinedMetricWarning: Precision and F-score are ill-defined and being set to 0.0 in samples with no predicted labels. Use `zero_division` parameter to control this behavior.\n",
            "  _warn_prf(average, modifier, msg_start, len(result))\n"
          ]
        }
      ],
      "source": [
        "print('Optimizer ADAGRAD Model\\n')\n",
        "modelEvaluate(adagrad)"
      ]
    },
    {
      "cell_type": "code",
      "execution_count": null,
      "metadata": {
        "colab": {
          "base_uri": "https://localhost:8080/"
        },
        "id": "PYYl5AYzV-GO",
        "outputId": "b5ece684-1eba-4efe-f6d5-2c91ffd4b92a"
      },
      "outputs": [
        {
          "name": "stdout",
          "output_type": "stream",
          "text": [
            "Optimizer ADADELTA Model\n",
            "\n",
            "205/205 [==============================] - 0s 1ms/step - loss: 2.3332 - acc: 0.4454\n",
            "test acc: 0.44539666175842285, test_loss: 2.3332462310791016 \n",
            "\n",
            "\n",
            "              precision    recall  f1-score   support\n",
            "\n",
            "           0       0.00      0.00      0.00       607\n",
            "           1       0.00      0.00      0.00       397\n",
            "           2       0.00      0.00      0.00       158\n",
            "           3       0.00      0.00      0.00       496\n",
            "           4       0.00      0.00      0.00       582\n",
            "           5       0.00      0.00      0.00       774\n",
            "           6       1.00      0.00      0.01      1070\n",
            "\n",
            "   micro avg       0.60      0.00      0.00      4084\n",
            "   macro avg       0.14      0.00      0.00      4084\n",
            "weighted avg       0.26      0.00      0.00      4084\n",
            " samples avg       0.00      0.00      0.00      4084\n",
            "\n"
          ]
        },
        {
          "name": "stderr",
          "output_type": "stream",
          "text": [
            "/usr/local/lib/python3.7/dist-packages/sklearn/metrics/_classification.py:1318: UndefinedMetricWarning: Precision and F-score are ill-defined and being set to 0.0 in labels with no predicted samples. Use `zero_division` parameter to control this behavior.\n",
            "  _warn_prf(average, modifier, msg_start, len(result))\n",
            "/usr/local/lib/python3.7/dist-packages/sklearn/metrics/_classification.py:1318: UndefinedMetricWarning: Precision and F-score are ill-defined and being set to 0.0 in samples with no predicted labels. Use `zero_division` parameter to control this behavior.\n",
            "  _warn_prf(average, modifier, msg_start, len(result))\n"
          ]
        }
      ],
      "source": [
        "print('Optimizer ADADELTA Model\\n')\n",
        "modelEvaluate(adadelta)"
      ]
    },
    {
      "cell_type": "code",
      "execution_count": null,
      "metadata": {
        "colab": {
          "base_uri": "https://localhost:8080/"
        },
        "id": "uMqn5Y93V8Wq",
        "outputId": "b4346d03-32da-4134-9628-d3d913aa6c3b"
      },
      "outputs": [
        {
          "name": "stdout",
          "output_type": "stream",
          "text": [
            "Optimizer FTRL Model\n",
            "\n",
            "205/205 [==============================] - 0s 1ms/step - loss: 1.9111 - acc: 0.2620\n",
            "test acc: 0.2619980275630951, test_loss: 1.9110867977142334 \n",
            "\n",
            "\n",
            "              precision    recall  f1-score   support\n",
            "\n",
            "           0       0.00      0.00      0.00       607\n",
            "           1       0.00      0.00      0.00       397\n",
            "           2       0.00      0.00      0.00       158\n",
            "           3       0.00      0.00      0.00       496\n",
            "           4       0.00      0.00      0.00       582\n",
            "           5       0.00      0.00      0.00       774\n",
            "           6       0.00      0.00      0.00      1070\n",
            "\n",
            "   micro avg       0.00      0.00      0.00      4084\n",
            "   macro avg       0.00      0.00      0.00      4084\n",
            "weighted avg       0.00      0.00      0.00      4084\n",
            " samples avg       0.00      0.00      0.00      4084\n",
            "\n"
          ]
        },
        {
          "name": "stderr",
          "output_type": "stream",
          "text": [
            "/usr/local/lib/python3.7/dist-packages/sklearn/metrics/_classification.py:1318: UndefinedMetricWarning: Precision and F-score are ill-defined and being set to 0.0 in labels with no predicted samples. Use `zero_division` parameter to control this behavior.\n",
            "  _warn_prf(average, modifier, msg_start, len(result))\n",
            "/usr/local/lib/python3.7/dist-packages/sklearn/metrics/_classification.py:1318: UndefinedMetricWarning: Precision and F-score are ill-defined and being set to 0.0 due to no predicted samples. Use `zero_division` parameter to control this behavior.\n",
            "  _warn_prf(average, modifier, msg_start, len(result))\n",
            "/usr/local/lib/python3.7/dist-packages/sklearn/metrics/_classification.py:1318: UndefinedMetricWarning: Precision and F-score are ill-defined and being set to 0.0 in samples with no predicted labels. Use `zero_division` parameter to control this behavior.\n",
            "  _warn_prf(average, modifier, msg_start, len(result))\n"
          ]
        }
      ],
      "source": [
        "print('Optimizer FTRL Model\\n')\n",
        "modelEvaluate(ftrl)"
      ]
    }
  ],
  "metadata": {
    "colab": {
      "collapsed_sections": [],
      "name": "data_2.ipynb",
      "provenance": []
    },
    "kernelspec": {
      "display_name": "Python 3",
      "name": "python3"
    },
    "language_info": {
      "codemirror_mode": {
        "name": "ipython",
        "version": 3
      },
      "file_extension": ".py",
      "mimetype": "text/x-python",
      "name": "python",
      "nbconvert_exporter": "python",
      "pygments_lexer": "ipython3",
      "version": "3.9.7"
    }
  },
  "nbformat": 4,
  "nbformat_minor": 0
}
