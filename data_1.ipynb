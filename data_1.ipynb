{
  "cells": [
    {
      "cell_type": "markdown",
      "metadata": {
        "id": "Q_UjCE1QYxmp"
      },
      "source": [
        "Binary classification problemi\n",
        "\n",
        "> Sınıflarımız Cammeo(0) ve Osmancik(1)\n"
      ]
    },
    {
      "cell_type": "code",
      "execution_count": 3,
      "metadata": {
        "colab": {
          "base_uri": "https://localhost:8080/"
        },
        "id": "y24c7FcpP9RA",
        "outputId": "147133ec-ca62-4a2d-de4b-88669afaea70"
      },
      "outputs": [
        {
          "name": "stdout",
          "output_type": "stream",
          "text": [
            "Drive already mounted at /content/drive; to attempt to forcibly remount, call drive.mount(\"/content/drive\", force_remount=True).\n"
          ]
        }
      ],
      "source": [
        "import pandas as pd\n",
        "import numpy as np\n",
        "from google.colab import drive\n",
        "drive.mount('/content/drive')"
      ]
    },
    {
      "cell_type": "code",
      "execution_count": 6,
      "metadata": {
        "colab": {
          "base_uri": "https://localhost:8080/",
          "height": 206
        },
        "id": "ZFYQWVbHQ9o6",
        "outputId": "1ddc3409-7aa0-48e6-bb50-831f0b726e30"
      },
      "outputs": [
        {
          "data": {
            "text/html": [
              "\n",
              "  <div id=\"df-be59e121-797d-4392-bcaa-a0b4f8ecf37b\">\n",
              "    <div class=\"colab-df-container\">\n",
              "      <div>\n",
              "<style scoped>\n",
              "    .dataframe tbody tr th:only-of-type {\n",
              "        vertical-align: middle;\n",
              "    }\n",
              "\n",
              "    .dataframe tbody tr th {\n",
              "        vertical-align: top;\n",
              "    }\n",
              "\n",
              "    .dataframe thead th {\n",
              "        text-align: right;\n",
              "    }\n",
              "</style>\n",
              "<table border=\"1\" class=\"dataframe\">\n",
              "  <thead>\n",
              "    <tr style=\"text-align: right;\">\n",
              "      <th></th>\n",
              "      <th>Area</th>\n",
              "      <th>Perimeter</th>\n",
              "      <th>Major_Axis_Length</th>\n",
              "      <th>Minor_Axis_Length</th>\n",
              "      <th>Eccentricity</th>\n",
              "      <th>Convex_Area</th>\n",
              "      <th>Extent</th>\n",
              "      <th>Class</th>\n",
              "    </tr>\n",
              "  </thead>\n",
              "  <tbody>\n",
              "    <tr>\n",
              "      <th>0</th>\n",
              "      <td>15231</td>\n",
              "      <td>525.578979</td>\n",
              "      <td>229.749878</td>\n",
              "      <td>85.093788</td>\n",
              "      <td>0.928882</td>\n",
              "      <td>15617</td>\n",
              "      <td>0.572896</td>\n",
              "      <td>Cammeo</td>\n",
              "    </tr>\n",
              "    <tr>\n",
              "      <th>1</th>\n",
              "      <td>14656</td>\n",
              "      <td>494.311005</td>\n",
              "      <td>206.020065</td>\n",
              "      <td>91.730972</td>\n",
              "      <td>0.895405</td>\n",
              "      <td>15072</td>\n",
              "      <td>0.615436</td>\n",
              "      <td>Cammeo</td>\n",
              "    </tr>\n",
              "    <tr>\n",
              "      <th>2</th>\n",
              "      <td>14634</td>\n",
              "      <td>501.122009</td>\n",
              "      <td>214.106781</td>\n",
              "      <td>87.768288</td>\n",
              "      <td>0.912118</td>\n",
              "      <td>14954</td>\n",
              "      <td>0.693259</td>\n",
              "      <td>Cammeo</td>\n",
              "    </tr>\n",
              "    <tr>\n",
              "      <th>3</th>\n",
              "      <td>13176</td>\n",
              "      <td>458.342987</td>\n",
              "      <td>193.337387</td>\n",
              "      <td>87.448395</td>\n",
              "      <td>0.891861</td>\n",
              "      <td>13368</td>\n",
              "      <td>0.640669</td>\n",
              "      <td>Cammeo</td>\n",
              "    </tr>\n",
              "    <tr>\n",
              "      <th>4</th>\n",
              "      <td>14688</td>\n",
              "      <td>507.166992</td>\n",
              "      <td>211.743378</td>\n",
              "      <td>89.312454</td>\n",
              "      <td>0.906691</td>\n",
              "      <td>15262</td>\n",
              "      <td>0.646024</td>\n",
              "      <td>Cammeo</td>\n",
              "    </tr>\n",
              "  </tbody>\n",
              "</table>\n",
              "</div>\n",
              "      <button class=\"colab-df-convert\" onclick=\"convertToInteractive('df-be59e121-797d-4392-bcaa-a0b4f8ecf37b')\"\n",
              "              title=\"Convert this dataframe to an interactive table.\"\n",
              "              style=\"display:none;\">\n",
              "        \n",
              "  <svg xmlns=\"http://www.w3.org/2000/svg\" height=\"24px\"viewBox=\"0 0 24 24\"\n",
              "       width=\"24px\">\n",
              "    <path d=\"M0 0h24v24H0V0z\" fill=\"none\"/>\n",
              "    <path d=\"M18.56 5.44l.94 2.06.94-2.06 2.06-.94-2.06-.94-.94-2.06-.94 2.06-2.06.94zm-11 1L8.5 8.5l.94-2.06 2.06-.94-2.06-.94L8.5 2.5l-.94 2.06-2.06.94zm10 10l.94 2.06.94-2.06 2.06-.94-2.06-.94-.94-2.06-.94 2.06-2.06.94z\"/><path d=\"M17.41 7.96l-1.37-1.37c-.4-.4-.92-.59-1.43-.59-.52 0-1.04.2-1.43.59L10.3 9.45l-7.72 7.72c-.78.78-.78 2.05 0 2.83L4 21.41c.39.39.9.59 1.41.59.51 0 1.02-.2 1.41-.59l7.78-7.78 2.81-2.81c.8-.78.8-2.07 0-2.86zM5.41 20L4 18.59l7.72-7.72 1.47 1.35L5.41 20z\"/>\n",
              "  </svg>\n",
              "      </button>\n",
              "      \n",
              "  <style>\n",
              "    .colab-df-container {\n",
              "      display:flex;\n",
              "      flex-wrap:wrap;\n",
              "      gap: 12px;\n",
              "    }\n",
              "\n",
              "    .colab-df-convert {\n",
              "      background-color: #E8F0FE;\n",
              "      border: none;\n",
              "      border-radius: 50%;\n",
              "      cursor: pointer;\n",
              "      display: none;\n",
              "      fill: #1967D2;\n",
              "      height: 32px;\n",
              "      padding: 0 0 0 0;\n",
              "      width: 32px;\n",
              "    }\n",
              "\n",
              "    .colab-df-convert:hover {\n",
              "      background-color: #E2EBFA;\n",
              "      box-shadow: 0px 1px 2px rgba(60, 64, 67, 0.3), 0px 1px 3px 1px rgba(60, 64, 67, 0.15);\n",
              "      fill: #174EA6;\n",
              "    }\n",
              "\n",
              "    [theme=dark] .colab-df-convert {\n",
              "      background-color: #3B4455;\n",
              "      fill: #D2E3FC;\n",
              "    }\n",
              "\n",
              "    [theme=dark] .colab-df-convert:hover {\n",
              "      background-color: #434B5C;\n",
              "      box-shadow: 0px 1px 3px 1px rgba(0, 0, 0, 0.15);\n",
              "      filter: drop-shadow(0px 1px 2px rgba(0, 0, 0, 0.3));\n",
              "      fill: #FFFFFF;\n",
              "    }\n",
              "  </style>\n",
              "\n",
              "      <script>\n",
              "        const buttonEl =\n",
              "          document.querySelector('#df-be59e121-797d-4392-bcaa-a0b4f8ecf37b button.colab-df-convert');\n",
              "        buttonEl.style.display =\n",
              "          google.colab.kernel.accessAllowed ? 'block' : 'none';\n",
              "\n",
              "        async function convertToInteractive(key) {\n",
              "          const element = document.querySelector('#df-be59e121-797d-4392-bcaa-a0b4f8ecf37b');\n",
              "          const dataTable =\n",
              "            await google.colab.kernel.invokeFunction('convertToInteractive',\n",
              "                                                     [key], {});\n",
              "          if (!dataTable) return;\n",
              "\n",
              "          const docLinkHtml = 'Like what you see? Visit the ' +\n",
              "            '<a target=\"_blank\" href=https://colab.research.google.com/notebooks/data_table.ipynb>data table notebook</a>'\n",
              "            + ' to learn more about interactive tables.';\n",
              "          element.innerHTML = '';\n",
              "          dataTable['output_type'] = 'display_data';\n",
              "          await google.colab.output.renderOutput(dataTable, element);\n",
              "          const docLink = document.createElement('div');\n",
              "          docLink.innerHTML = docLinkHtml;\n",
              "          element.appendChild(docLink);\n",
              "        }\n",
              "      </script>\n",
              "    </div>\n",
              "  </div>\n",
              "  "
            ],
            "text/plain": [
              "    Area   Perimeter  Major_Axis_Length  Minor_Axis_Length  Eccentricity  \\\n",
              "0  15231  525.578979         229.749878          85.093788      0.928882   \n",
              "1  14656  494.311005         206.020065          91.730972      0.895405   \n",
              "2  14634  501.122009         214.106781          87.768288      0.912118   \n",
              "3  13176  458.342987         193.337387          87.448395      0.891861   \n",
              "4  14688  507.166992         211.743378          89.312454      0.906691   \n",
              "\n",
              "   Convex_Area    Extent   Class  \n",
              "0        15617  0.572896  Cammeo  \n",
              "1        15072  0.615436  Cammeo  \n",
              "2        14954  0.693259  Cammeo  \n",
              "3        13368  0.640669  Cammeo  \n",
              "4        15262  0.646024  Cammeo  "
            ]
          },
          "execution_count": 6,
          "metadata": {},
          "output_type": "execute_result"
        }
      ],
      "source": [
        "df = pd.read_excel('/content/drive/MyDrive/Derin Öğrenme/data-1.xlsx') # Veriyi okuma işlemi\n",
        "df.head()"
      ]
    },
    {
      "cell_type": "markdown",
      "metadata": {
        "id": "fqlwInbbTbpb"
      },
      "source": [
        "Elimizde 2 tür pirinç bulunmakta bunlardan bir tanesi Cammeo diğeri Osmancık. Özelliklerimizi kullanarak pirincin türünün ne olduğunu tahmin etmeye çalışacağız."
      ]
    },
    {
      "cell_type": "code",
      "execution_count": 5,
      "metadata": {
        "colab": {
          "base_uri": "https://localhost:8080/"
        },
        "id": "LTF1JfMdS_ku",
        "outputId": "9c9401e9-ebcb-48f3-8c3c-f9bf3b195f1f"
      },
      "outputs": [
        {
          "data": {
            "text/plain": [
              "Area                 0\n",
              "Perimeter            0\n",
              "Major_Axis_Length    0\n",
              "Minor_Axis_Length    0\n",
              "Eccentricity         0\n",
              "Convex_Area          0\n",
              "Extent               0\n",
              "Class                0\n",
              "dtype: int64"
            ]
          },
          "execution_count": 5,
          "metadata": {},
          "output_type": "execute_result"
        }
      ],
      "source": [
        "df.isnull().sum() # Boş değer bulunmuyor."
      ]
    },
    {
      "cell_type": "code",
      "execution_count": 7,
      "metadata": {
        "id": "_KsDY1PFanNt"
      },
      "outputs": [],
      "source": [
        "for i in range(0,df['Class'].count()): # Text olan ifadeleri sayısallaştırdık.\n",
        "  if df['Class'][i] == 'Cammeo':\n",
        "    df['Class'] = df['Class'].replace(df['Class'][i],0)\n",
        "  if df['Class'][i] == 'Osmancik':\n",
        "    df['Class'] = df['Class'].replace(df['Class'][i],1)"
      ]
    },
    {
      "cell_type": "markdown",
      "metadata": {
        "id": "7c3kfaItdp8v"
      },
      "source": [
        "Cammeo değerlerini 0, Osmancik değerlerini 1 ile değiştirdik."
      ]
    },
    {
      "cell_type": "code",
      "execution_count": 8,
      "metadata": {
        "colab": {
          "base_uri": "https://localhost:8080/"
        },
        "id": "PQ7QB6JUbQox",
        "outputId": "ce436c15-dbd9-479d-fc1f-812a939b5159"
      },
      "outputs": [
        {
          "name": "stdout",
          "output_type": "stream",
          "text": [
            "1630 2180\n"
          ]
        }
      ],
      "source": [
        "print((df['Class'] == 0).sum(),\n",
        "(df['Class'] == 1).sum())"
      ]
    },
    {
      "cell_type": "code",
      "execution_count": 9,
      "metadata": {
        "id": "vW0gdyJoU4I2"
      },
      "outputs": [],
      "source": [
        "from sklearn.model_selection import train_test_split\n",
        "from sklearn.preprocessing import StandardScaler\n",
        "from keras.models import Sequential\n",
        "from keras.layers import Dense, Dropout, BatchNormalization\n",
        "import matplotlib.pyplot as plt"
      ]
    },
    {
      "cell_type": "code",
      "execution_count": 11,
      "metadata": {
        "id": "3QGPdFLHTIr-"
      },
      "outputs": [],
      "source": [
        "X = df.drop(['Class'], axis=1) # Girdiler\n",
        "Y = df['Class'] # Çıktı"
      ]
    },
    {
      "cell_type": "code",
      "execution_count": 12,
      "metadata": {
        "id": "tWs42t5OgLHw"
      },
      "outputs": [],
      "source": [
        "scaler = StandardScaler()"
      ]
    },
    {
      "cell_type": "code",
      "execution_count": 13,
      "metadata": {
        "id": "hhRPf_5LU4Kt"
      },
      "outputs": [],
      "source": [
        "Xtrain, Xtest, Ytrain, Ytest = train_test_split(X,Y, random_state=58, test_size=.25) # Veriyi train test olarak ayırma işlemi"
      ]
    },
    {
      "cell_type": "code",
      "execution_count": 14,
      "metadata": {
        "id": "5fTFCbJQKGJI"
      },
      "outputs": [],
      "source": [
        "Xtrain = scaler.fit_transform(Xtrain) # Ölçeklendirme \n",
        "Xtest = scaler.fit_transform(Xtest) "
      ]
    },
    {
      "cell_type": "code",
      "execution_count": 18,
      "metadata": {
        "id": "lwnRf6RSYi6o"
      },
      "outputs": [],
      "source": [
        "def modelFunc(optimizer): # Model\n",
        "  model = Sequential()\n",
        "\n",
        "  model.add(Dense(8,activation='relu',input_dim=7))\n",
        "  model.add(BatchNormalization())\n",
        "\n",
        "  model.add(Dense(16,activation='relu', kernel_regularizer='l2'))\n",
        "  model.add(BatchNormalization())\n",
        "\n",
        "  model.add(Dense(8,activation='relu', kernel_regularizer='l2'))\n",
        "  model.add(BatchNormalization())\n",
        "\n",
        "  model.add(Dense(1,activation='sigmoid', kernel_regularizer='l2'))\n",
        "\n",
        "  model.compile(optimizer=optimizer, loss='binary_crossentropy', metrics=['acc'])\n",
        "\n",
        "  return model"
      ]
    },
    {
      "cell_type": "code",
      "execution_count": 20,
      "metadata": {
        "id": "z1almyfiZ8Hp"
      },
      "outputs": [],
      "source": [
        "def modelFit(model):\n",
        "  history = model.fit(Xtrain,Ytrain,batch_size=20,epochs=10, validation_split=0.2)\n",
        "  return history"
      ]
    },
    {
      "cell_type": "code",
      "execution_count": 22,
      "metadata": {
        "id": "Ghfa2WWhedhd"
      },
      "outputs": [],
      "source": [
        "def modelEvaluate(model):\n",
        "  \n",
        "  test_loss, test_acc = model.evaluate(Xtest,Ytest, batch_size=20)\n",
        "  print('test acc: {0}, test_loss: {1}'.format(test_acc, test_loss))\n",
        "  \n",
        "  print('\\n\\n')\n",
        "\n",
        "  y_pred = model.predict(Xtest)\n",
        "  from sklearn.metrics import confusion_matrix,classification_report\n",
        "\n",
        "  for i in range(0,len(y_pred)):\n",
        "    if y_pred[i] >= 0.5:\n",
        "      y_pred[i] = 1\n",
        "    else:\n",
        "      y_pred[i] = 0\n",
        "\n",
        "  confusion = confusion_matrix(Ytest, y_pred)\n",
        "  print('Confusion Matrix: \\n',confusion)\n",
        "\n",
        "  print('\\n\\n')\n",
        "\n",
        "  print(classification_report(Ytest,y_pred))"
      ]
    },
    {
      "cell_type": "code",
      "execution_count": 19,
      "metadata": {
        "id": "fnwFYvDzXN60"
      },
      "outputs": [],
      "source": [
        "def bestModel():\n",
        "  rmsprop = modelFunc('rmsprop')\n",
        "  rmsprop_hist = modelFit(rmsprop)\n",
        "\n",
        "  print('Optimizer RMSPROP Model\\n')\n",
        "  modelEvaluate(rmsprop)\n",
        "\n",
        "  print('\\nBirinci grafik accuracy değerlerini, ikinci grafik loss değerlerini gösterir.\\n')\n",
        "  \n",
        "  ax1 = plt.subplot(1,2,1)\n",
        "  ax1.plot(rmsprop_hist.history['acc'], color='red')\n",
        "  ax1.plot(rmsprop_hist.history['val_acc'], color='blue')\n",
        "  ax1.legend(['train','validation'])\n",
        "  \n",
        "  ax2 = plt.subplot(1,2,2)\n",
        "  ax2.plot(rmsprop_hist.history['loss'], color='red')\n",
        "  ax2.plot(rmsprop_hist.history['val_loss'], color='blue')\n",
        "  ax2.legend(['train','validation'])\n",
        "  "
      ]
    },
    {
      "cell_type": "code",
      "execution_count": 23,
      "metadata": {
        "colab": {
          "base_uri": "https://localhost:8080/",
          "height": 1000
        },
        "id": "zPInWQmIXO3U",
        "outputId": "c9eed509-e058-4ef4-80a4-fdc55edc50de"
      },
      "outputs": [
        {
          "name": "stdout",
          "output_type": "stream",
          "text": [
            "Epoch 1/10\n",
            "115/115 [==============================] - 2s 7ms/step - loss: 0.7662 - acc: 0.7514 - val_loss: 0.6706 - val_acc: 0.9108\n",
            "Epoch 2/10\n",
            "115/115 [==============================] - 1s 6ms/step - loss: 0.4790 - acc: 0.8993 - val_loss: 0.4497 - val_acc: 0.9248\n",
            "Epoch 3/10\n",
            "115/115 [==============================] - 1s 6ms/step - loss: 0.4213 - acc: 0.9068 - val_loss: 0.3606 - val_acc: 0.9283\n",
            "Epoch 4/10\n",
            "115/115 [==============================] - 1s 6ms/step - loss: 0.3974 - acc: 0.8954 - val_loss: 0.3236 - val_acc: 0.9318\n",
            "Epoch 5/10\n",
            "115/115 [==============================] - 1s 6ms/step - loss: 0.3781 - acc: 0.9033 - val_loss: 0.3066 - val_acc: 0.9371\n",
            "Epoch 6/10\n",
            "115/115 [==============================] - 1s 6ms/step - loss: 0.3571 - acc: 0.9081 - val_loss: 0.2878 - val_acc: 0.9353\n",
            "Epoch 7/10\n",
            "115/115 [==============================] - 1s 6ms/step - loss: 0.3449 - acc: 0.9068 - val_loss: 0.2831 - val_acc: 0.9353\n",
            "Epoch 8/10\n",
            "115/115 [==============================] - 1s 6ms/step - loss: 0.3377 - acc: 0.9042 - val_loss: 0.2748 - val_acc: 0.9353\n",
            "Epoch 9/10\n",
            "115/115 [==============================] - 1s 6ms/step - loss: 0.3254 - acc: 0.9028 - val_loss: 0.2681 - val_acc: 0.9301\n",
            "Epoch 10/10\n",
            "115/115 [==============================] - 1s 6ms/step - loss: 0.3120 - acc: 0.9147 - val_loss: 0.2582 - val_acc: 0.9353\n",
            "Optimizer RMSPROP Model\n",
            "\n",
            "48/48 [==============================] - 0s 2ms/step - loss: 0.2767 - acc: 0.9161\n",
            "test acc: 0.9160545468330383, test_loss: 0.2767171859741211\n",
            "\n",
            "\n",
            "\n",
            "Confusion Matrix: \n",
            " [[374  26]\n",
            " [ 54 499]]\n",
            "\n",
            "\n",
            "\n",
            "              precision    recall  f1-score   support\n",
            "\n",
            "           0       0.87      0.94      0.90       400\n",
            "           1       0.95      0.90      0.93       553\n",
            "\n",
            "    accuracy                           0.92       953\n",
            "   macro avg       0.91      0.92      0.91       953\n",
            "weighted avg       0.92      0.92      0.92       953\n",
            "\n",
            "\n",
            "Birinci grafik accuracy değerlerini, ikinci grafik loss değerlerini gösterir.\n",
            "\n"
          ]
        },
        {
          "data": {
            "image/png": "[encoded data removed]",
            "text/plain": [
              "<Figure size 432x288 with 2 Axes>"
            ]
          },
          "metadata": {
            "needs_background": "light"
          },
          "output_type": "display_data"
        }
      ],
      "source": [
        "bestModel()"
      ]
    },
    {
      "cell_type": "code",
      "execution_count": 24,
      "metadata": {
        "id": "wB1wdMNn9gQh"
      },
      "outputs": [],
      "source": [
        "adam = modelFunc('adam')\n",
        "adamax = modelFunc('adamax')\n",
        "rmsprop = modelFunc('rmsprop')\n",
        "sgd = modelFunc('sgd')\n",
        "adadelta = modelFunc('adadelta')\n",
        "adagrad = modelFunc('adagrad')\n",
        "ftrl = modelFunc('ftrl')\n",
        "nadam = modelFunc('nadam')"
      ]
    },
    {
      "cell_type": "code",
      "execution_count": 25,
      "metadata": {
        "colab": {
          "base_uri": "https://localhost:8080/"
        },
        "id": "SsUZ1KxR-ixo",
        "outputId": "8af4eac1-826c-4352-ac4a-8a642045775e"
      },
      "outputs": [
        {
          "name": "stdout",
          "output_type": "stream",
          "text": [
            "Epoch 1/10\n",
            "115/115 [==============================] - 2s 6ms/step - loss: 0.6492 - acc: 0.8267 - val_loss: 0.7017 - val_acc: 0.9196\n",
            "Epoch 2/10\n",
            "115/115 [==============================] - 1s 5ms/step - loss: 0.4726 - acc: 0.9059 - val_loss: 0.4371 - val_acc: 0.9318\n",
            "Epoch 3/10\n",
            "115/115 [==============================] - 1s 5ms/step - loss: 0.4176 - acc: 0.9063 - val_loss: 0.3650 - val_acc: 0.9336\n",
            "Epoch 4/10\n",
            "115/115 [==============================] - 1s 5ms/step - loss: 0.3913 - acc: 0.9116 - val_loss: 0.3300 - val_acc: 0.9388\n",
            "Epoch 5/10\n",
            "115/115 [==============================] - 1s 5ms/step - loss: 0.3723 - acc: 0.9077 - val_loss: 0.3153 - val_acc: 0.9318\n",
            "Epoch 6/10\n",
            "115/115 [==============================] - 1s 5ms/step - loss: 0.3424 - acc: 0.9094 - val_loss: 0.2959 - val_acc: 0.9353\n",
            "Epoch 7/10\n",
            "115/115 [==============================] - 1s 5ms/step - loss: 0.3338 - acc: 0.9129 - val_loss: 0.2815 - val_acc: 0.9318\n",
            "Epoch 8/10\n",
            "115/115 [==============================] - 1s 5ms/step - loss: 0.3305 - acc: 0.9133 - val_loss: 0.2673 - val_acc: 0.9458\n",
            "Epoch 9/10\n",
            "115/115 [==============================] - 1s 5ms/step - loss: 0.3032 - acc: 0.9173 - val_loss: 0.2590 - val_acc: 0.9406\n",
            "Epoch 10/10\n",
            "115/115 [==============================] - 1s 5ms/step - loss: 0.3049 - acc: 0.9120 - val_loss: 0.2511 - val_acc: 0.9458\n"
          ]
        }
      ],
      "source": [
        "adam_hist = modelFit(adam)"
      ]
    },
    {
      "cell_type": "code",
      "execution_count": 26,
      "metadata": {
        "colab": {
          "base_uri": "https://localhost:8080/"
        },
        "id": "zSsUSPcY_Eye",
        "outputId": "db47270e-b31b-4d61-e20c-25fdd825593d"
      },
      "outputs": [
        {
          "name": "stdout",
          "output_type": "stream",
          "text": [
            "Epoch 1/10\n",
            "115/115 [==============================] - 2s 7ms/step - loss: 0.6030 - acc: 0.8460 - val_loss: 0.6523 - val_acc: 0.8934\n",
            "Epoch 2/10\n",
            "115/115 [==============================] - 1s 5ms/step - loss: 0.5038 - acc: 0.8871 - val_loss: 0.5018 - val_acc: 0.9161\n",
            "Epoch 3/10\n",
            "115/115 [==============================] - 1s 5ms/step - loss: 0.4604 - acc: 0.8963 - val_loss: 0.4263 - val_acc: 0.9196\n",
            "Epoch 4/10\n",
            "115/115 [==============================] - 1s 5ms/step - loss: 0.4269 - acc: 0.9059 - val_loss: 0.3919 - val_acc: 0.9301\n",
            "Epoch 5/10\n",
            "115/115 [==============================] - 1s 5ms/step - loss: 0.4316 - acc: 0.8967 - val_loss: 0.3717 - val_acc: 0.9353\n",
            "Epoch 6/10\n",
            "115/115 [==============================] - 1s 5ms/step - loss: 0.4199 - acc: 0.9055 - val_loss: 0.3597 - val_acc: 0.9353\n",
            "Epoch 7/10\n",
            "115/115 [==============================] - 1s 5ms/step - loss: 0.3864 - acc: 0.9138 - val_loss: 0.3469 - val_acc: 0.9371\n",
            "Epoch 8/10\n",
            "115/115 [==============================] - 1s 5ms/step - loss: 0.3796 - acc: 0.9094 - val_loss: 0.3388 - val_acc: 0.9371\n",
            "Epoch 9/10\n",
            "115/115 [==============================] - 1s 7ms/step - loss: 0.3880 - acc: 0.9116 - val_loss: 0.3305 - val_acc: 0.9371\n",
            "Epoch 10/10\n",
            "115/115 [==============================] - 1s 6ms/step - loss: 0.3802 - acc: 0.9072 - val_loss: 0.3244 - val_acc: 0.9353\n"
          ]
        }
      ],
      "source": [
        "adamax_hist = modelFit(adamax)"
      ]
    },
    {
      "cell_type": "code",
      "execution_count": 27,
      "metadata": {
        "colab": {
          "base_uri": "https://localhost:8080/"
        },
        "id": "r8jh-EW6_E67",
        "outputId": "77eaa6fc-e4b3-4779-c2d4-9d1c38d6f84c"
      },
      "outputs": [
        {
          "name": "stdout",
          "output_type": "stream",
          "text": [
            "Epoch 1/10\n",
            "115/115 [==============================] - 2s 7ms/step - loss: 0.6705 - acc: 0.7930 - val_loss: 0.6545 - val_acc: 0.9196\n",
            "Epoch 2/10\n",
            "115/115 [==============================] - 1s 6ms/step - loss: 0.4586 - acc: 0.9002 - val_loss: 0.4522 - val_acc: 0.9318\n",
            "Epoch 3/10\n",
            "115/115 [==============================] - 1s 6ms/step - loss: 0.4074 - acc: 0.9133 - val_loss: 0.3641 - val_acc: 0.9336\n",
            "Epoch 4/10\n",
            "115/115 [==============================] - 1s 10ms/step - loss: 0.3868 - acc: 0.9059 - val_loss: 0.3264 - val_acc: 0.9371\n",
            "Epoch 5/10\n",
            "115/115 [==============================] - 1s 7ms/step - loss: 0.3597 - acc: 0.9085 - val_loss: 0.3069 - val_acc: 0.9353\n",
            "Epoch 6/10\n",
            "115/115 [==============================] - 1s 6ms/step - loss: 0.3481 - acc: 0.9221 - val_loss: 0.2912 - val_acc: 0.9371\n",
            "Epoch 7/10\n",
            "115/115 [==============================] - 1s 6ms/step - loss: 0.3392 - acc: 0.9103 - val_loss: 0.2833 - val_acc: 0.9336\n",
            "Epoch 8/10\n",
            "115/115 [==============================] - 1s 6ms/step - loss: 0.3295 - acc: 0.9085 - val_loss: 0.2648 - val_acc: 0.9406\n",
            "Epoch 9/10\n",
            "115/115 [==============================] - 1s 6ms/step - loss: 0.3038 - acc: 0.9164 - val_loss: 0.2566 - val_acc: 0.9388\n",
            "Epoch 10/10\n",
            "115/115 [==============================] - 1s 6ms/step - loss: 0.3051 - acc: 0.9107 - val_loss: 0.2502 - val_acc: 0.9371\n"
          ]
        }
      ],
      "source": [
        "rmsprop_hist = modelFit(rmsprop)"
      ]
    },
    {
      "cell_type": "code",
      "execution_count": 28,
      "metadata": {
        "colab": {
          "base_uri": "https://localhost:8080/"
        },
        "id": "W0ZgRVwd_E_t",
        "outputId": "9fabd748-dac7-4c6d-f07f-835e65f466aa"
      },
      "outputs": [
        {
          "name": "stdout",
          "output_type": "stream",
          "text": [
            "Epoch 1/10\n",
            "115/115 [==============================] - 2s 6ms/step - loss: 0.7022 - acc: 0.7803 - val_loss: 0.6963 - val_acc: 0.9091\n",
            "Epoch 2/10\n",
            "115/115 [==============================] - 1s 5ms/step - loss: 0.5257 - acc: 0.8985 - val_loss: 0.5178 - val_acc: 0.9283\n",
            "Epoch 3/10\n",
            "115/115 [==============================] - 1s 5ms/step - loss: 0.4770 - acc: 0.9037 - val_loss: 0.4360 - val_acc: 0.9353\n",
            "Epoch 4/10\n",
            "115/115 [==============================] - 1s 5ms/step - loss: 0.4478 - acc: 0.9090 - val_loss: 0.3979 - val_acc: 0.9371\n",
            "Epoch 5/10\n",
            "115/115 [==============================] - 1s 5ms/step - loss: 0.4345 - acc: 0.9059 - val_loss: 0.3779 - val_acc: 0.9406\n",
            "Epoch 6/10\n",
            "115/115 [==============================] - 1s 5ms/step - loss: 0.4367 - acc: 0.9046 - val_loss: 0.3701 - val_acc: 0.9441\n",
            "Epoch 7/10\n",
            "115/115 [==============================] - 1s 5ms/step - loss: 0.4137 - acc: 0.9125 - val_loss: 0.3611 - val_acc: 0.9423\n",
            "Epoch 8/10\n",
            "115/115 [==============================] - 1s 5ms/step - loss: 0.4149 - acc: 0.8989 - val_loss: 0.3521 - val_acc: 0.9458\n",
            "Epoch 9/10\n",
            "115/115 [==============================] - 1s 5ms/step - loss: 0.4082 - acc: 0.9033 - val_loss: 0.3439 - val_acc: 0.9458\n",
            "Epoch 10/10\n",
            "115/115 [==============================] - 1s 5ms/step - loss: 0.3889 - acc: 0.9055 - val_loss: 0.3371 - val_acc: 0.9406\n"
          ]
        }
      ],
      "source": [
        "sgd_hist = modelFit(sgd)"
      ]
    },
    {
      "cell_type": "code",
      "execution_count": 29,
      "metadata": {
        "colab": {
          "base_uri": "https://localhost:8080/"
        },
        "id": "6r1fnqIk_FLX",
        "outputId": "f7641f86-f8f6-46d1-d3e0-b7fb23457c6d"
      },
      "outputs": [
        {
          "name": "stdout",
          "output_type": "stream",
          "text": [
            "Epoch 1/10\n",
            "115/115 [==============================] - 2s 6ms/step - loss: 1.4406 - acc: 0.3597 - val_loss: 0.9861 - val_acc: 0.4895\n",
            "Epoch 2/10\n",
            "115/115 [==============================] - 1s 5ms/step - loss: 1.4272 - acc: 0.3615 - val_loss: 1.1408 - val_acc: 0.3846\n",
            "Epoch 3/10\n",
            "115/115 [==============================] - 1s 5ms/step - loss: 1.4443 - acc: 0.3492 - val_loss: 1.2885 - val_acc: 0.3601\n",
            "Epoch 4/10\n",
            "115/115 [==============================] - 1s 5ms/step - loss: 1.4328 - acc: 0.3619 - val_loss: 1.3677 - val_acc: 0.3549\n",
            "Epoch 5/10\n",
            "115/115 [==============================] - 1s 5ms/step - loss: 1.4388 - acc: 0.3628 - val_loss: 1.3993 - val_acc: 0.3514\n",
            "Epoch 6/10\n",
            "115/115 [==============================] - 1s 6ms/step - loss: 1.4124 - acc: 0.3746 - val_loss: 1.4059 - val_acc: 0.3514\n",
            "Epoch 7/10\n",
            "115/115 [==============================] - 1s 8ms/step - loss: 1.4253 - acc: 0.3619 - val_loss: 1.4134 - val_acc: 0.3479\n",
            "Epoch 8/10\n",
            "115/115 [==============================] - 1s 8ms/step - loss: 1.4282 - acc: 0.3667 - val_loss: 1.4082 - val_acc: 0.3462\n",
            "Epoch 9/10\n",
            "115/115 [==============================] - 1s 10ms/step - loss: 1.4215 - acc: 0.3580 - val_loss: 1.4098 - val_acc: 0.3531\n",
            "Epoch 10/10\n",
            "115/115 [==============================] - 1s 5ms/step - loss: 1.4119 - acc: 0.3794 - val_loss: 1.4050 - val_acc: 0.3497\n"
          ]
        }
      ],
      "source": [
        "adadelta_hist = modelFit(adadelta)"
      ]
    },
    {
      "cell_type": "code",
      "execution_count": 30,
      "metadata": {
        "colab": {
          "base_uri": "https://localhost:8080/"
        },
        "id": "8ykwUh8j_FNv",
        "outputId": "9da41d7c-f34c-47dc-db07-16412d9402fc"
      },
      "outputs": [
        {
          "name": "stdout",
          "output_type": "stream",
          "text": [
            "Epoch 1/10\n",
            "115/115 [==============================] - 2s 7ms/step - loss: 0.7254 - acc: 0.7689 - val_loss: 0.7565 - val_acc: 0.8339\n",
            "Epoch 2/10\n",
            "115/115 [==============================] - 1s 5ms/step - loss: 0.6591 - acc: 0.8306 - val_loss: 0.6625 - val_acc: 0.8706\n",
            "Epoch 3/10\n",
            "115/115 [==============================] - 1s 5ms/step - loss: 0.6226 - acc: 0.8538 - val_loss: 0.6025 - val_acc: 0.8969\n",
            "Epoch 4/10\n",
            "115/115 [==============================] - 1s 5ms/step - loss: 0.6023 - acc: 0.8661 - val_loss: 0.5595 - val_acc: 0.9073\n",
            "Epoch 5/10\n",
            "115/115 [==============================] - 1s 5ms/step - loss: 0.5918 - acc: 0.8726 - val_loss: 0.5349 - val_acc: 0.9143\n",
            "Epoch 6/10\n",
            "115/115 [==============================] - 1s 5ms/step - loss: 0.5767 - acc: 0.8796 - val_loss: 0.5208 - val_acc: 0.9161\n",
            "Epoch 7/10\n",
            "115/115 [==============================] - 1s 5ms/step - loss: 0.5620 - acc: 0.8871 - val_loss: 0.5105 - val_acc: 0.9178\n",
            "Epoch 8/10\n",
            "115/115 [==============================] - 1s 5ms/step - loss: 0.5587 - acc: 0.8915 - val_loss: 0.5002 - val_acc: 0.9213\n",
            "Epoch 9/10\n",
            "115/115 [==============================] - 1s 5ms/step - loss: 0.5506 - acc: 0.8858 - val_loss: 0.4945 - val_acc: 0.9213\n",
            "Epoch 10/10\n",
            "115/115 [==============================] - 1s 5ms/step - loss: 0.5447 - acc: 0.8893 - val_loss: 0.4894 - val_acc: 0.9248\n"
          ]
        }
      ],
      "source": [
        "adagrad_hist = modelFit(adagrad)"
      ]
    },
    {
      "cell_type": "code",
      "execution_count": 31,
      "metadata": {
        "colab": {
          "base_uri": "https://localhost:8080/"
        },
        "id": "dTSZPyfEMAVF",
        "outputId": "48dae392-0fe3-4558-931d-4fb1919e7db2"
      },
      "outputs": [
        {
          "name": "stdout",
          "output_type": "stream",
          "text": [
            "Epoch 1/10\n",
            "115/115 [==============================] - 2s 7ms/step - loss: 0.7033 - acc: 0.6827 - val_loss: 0.7047 - val_acc: 0.5612\n",
            "Epoch 2/10\n",
            "115/115 [==============================] - 1s 5ms/step - loss: 0.6846 - acc: 0.8236 - val_loss: 0.7042 - val_acc: 0.5612\n",
            "Epoch 3/10\n",
            "115/115 [==============================] - 1s 5ms/step - loss: 0.6745 - acc: 0.8766 - val_loss: 0.7025 - val_acc: 0.5612\n",
            "Epoch 4/10\n",
            "115/115 [==============================] - 1s 5ms/step - loss: 0.6682 - acc: 0.8814 - val_loss: 0.6955 - val_acc: 0.6346\n",
            "Epoch 5/10\n",
            "115/115 [==============================] - 1s 6ms/step - loss: 0.6624 - acc: 0.8958 - val_loss: 0.6790 - val_acc: 0.9073\n",
            "Epoch 6/10\n",
            "115/115 [==============================] - 1s 5ms/step - loss: 0.6575 - acc: 0.9015 - val_loss: 0.6609 - val_acc: 0.9248\n",
            "Epoch 7/10\n",
            "115/115 [==============================] - 1s 5ms/step - loss: 0.6529 - acc: 0.9050 - val_loss: 0.6482 - val_acc: 0.9283\n",
            "Epoch 8/10\n",
            "115/115 [==============================] - 1s 5ms/step - loss: 0.6490 - acc: 0.9050 - val_loss: 0.6411 - val_acc: 0.9283\n",
            "Epoch 9/10\n",
            "115/115 [==============================] - 1s 5ms/step - loss: 0.6450 - acc: 0.9050 - val_loss: 0.6361 - val_acc: 0.9301\n",
            "Epoch 10/10\n",
            "115/115 [==============================] - 1s 5ms/step - loss: 0.6420 - acc: 0.9068 - val_loss: 0.6319 - val_acc: 0.9301\n"
          ]
        }
      ],
      "source": [
        "ftrl_hist = modelFit(ftrl)"
      ]
    },
    {
      "cell_type": "code",
      "execution_count": 32,
      "metadata": {
        "colab": {
          "base_uri": "https://localhost:8080/"
        },
        "id": "zKuMQx1mMAXl",
        "outputId": "ecf7bb46-904d-4798-fb45-2c5efb632e9a"
      },
      "outputs": [
        {
          "name": "stdout",
          "output_type": "stream",
          "text": [
            "Epoch 1/10\n",
            "115/115 [==============================] - 3s 9ms/step - loss: 0.6418 - acc: 0.8376 - val_loss: 0.6280 - val_acc: 0.8899\n",
            "Epoch 2/10\n",
            "115/115 [==============================] - 1s 7ms/step - loss: 0.4701 - acc: 0.9059 - val_loss: 0.4471 - val_acc: 0.9301\n",
            "Epoch 3/10\n",
            "115/115 [==============================] - 1s 7ms/step - loss: 0.4231 - acc: 0.9112 - val_loss: 0.3722 - val_acc: 0.9423\n",
            "Epoch 4/10\n",
            "115/115 [==============================] - 1s 7ms/step - loss: 0.3862 - acc: 0.9107 - val_loss: 0.3414 - val_acc: 0.9371\n",
            "Epoch 5/10\n",
            "115/115 [==============================] - 1s 7ms/step - loss: 0.3754 - acc: 0.9103 - val_loss: 0.3166 - val_acc: 0.9388\n",
            "Epoch 6/10\n",
            "115/115 [==============================] - 1s 7ms/step - loss: 0.3574 - acc: 0.9142 - val_loss: 0.2986 - val_acc: 0.9388\n",
            "Epoch 7/10\n",
            "115/115 [==============================] - 1s 7ms/step - loss: 0.3352 - acc: 0.9239 - val_loss: 0.2816 - val_acc: 0.9388\n",
            "Epoch 8/10\n",
            "115/115 [==============================] - 1s 7ms/step - loss: 0.3223 - acc: 0.9147 - val_loss: 0.2742 - val_acc: 0.9353\n",
            "Epoch 9/10\n",
            "115/115 [==============================] - 1s 7ms/step - loss: 0.3233 - acc: 0.9103 - val_loss: 0.2720 - val_acc: 0.9318\n",
            "Epoch 10/10\n",
            "115/115 [==============================] - 1s 7ms/step - loss: 0.3179 - acc: 0.9112 - val_loss: 0.2606 - val_acc: 0.9388\n"
          ]
        }
      ],
      "source": [
        "nadam_hist = modelFit(nadam)"
      ]
    },
    {
      "cell_type": "code",
      "execution_count": 33,
      "metadata": {
        "id": "shQvoF0Hg5YG"
      },
      "outputs": [],
      "source": [
        "def plotAcc(adam,adamax,rmsprop,sgd,adadelta,adagrad,ftrl,nadam,adam_text,adamax_text,rmsprop_text,sgd_text,adadelta_text,adagrad_text,ftrl_text,nadam_text):\n",
        "    plt.ylabel('Validation Acc')\n",
        "    plt.xlabel('Epochs')\n",
        "    plt.plot(adam.history['val_acc'], color='blue')\n",
        "    plt.plot(adamax.history['val_acc'], color='orange')\n",
        "    plt.plot(rmsprop.history['val_acc'], color='black')\n",
        "    plt.plot(sgd.history['val_acc'], color='green')\n",
        "    plt.plot(adadelta.history['val_acc'], color='red')\n",
        "    plt.plot(adagrad.history['val_acc'], color='purple')\n",
        "    plt.plot(adadelta.history['val_acc'], color='gray')\n",
        "    plt.plot(adagrad.history['val_acc'], color='pink')\n",
        "    plt.legend([adam_text,adamax_text,rmsprop_text,sgd_text,adadelta_text,adagrad_text,ftrl_text,nadam_text])\n",
        "    plt.show()"
      ]
    },
    {
      "cell_type": "code",
      "execution_count": 34,
      "metadata": {
        "id": "HPbxDEWR8hDc"
      },
      "outputs": [],
      "source": [
        "def plotLoss(adam,adamax,rmsprop,sgd,adadelta,adagrad,ftrl,nadam,adam_text,adamax_text,rmsprop_text,sgd_text,adadelta_text,adagrad_text,ftrl_text,nadam_text):\n",
        "    plt.ylabel('Loss')\n",
        "    plt.xlabel('Epochs')\n",
        "    plt.plot(adam.history['loss'], color='blue')\n",
        "    plt.plot(adamax.history['loss'], color='orange')\n",
        "    plt.plot(rmsprop.history['loss'], color='black')\n",
        "    plt.plot(sgd.history['loss'], color='green')\n",
        "    plt.plot(adadelta.history['loss'], color='red')\n",
        "    plt.plot(adagrad.history['loss'], color='purple')\n",
        "    plt.plot(adadelta.history['loss'], color='gray')\n",
        "    plt.plot(adagrad.history['loss'], color='pink')\n",
        "    plt.legend([adam_text,adamax_text,rmsprop_text,sgd_text,adadelta_text,adagrad_text,ftrl_text,nadam_text])\n",
        "    plt.show()"
      ]
    },
    {
      "cell_type": "code",
      "execution_count": 35,
      "metadata": {
        "colab": {
          "base_uri": "https://localhost:8080/",
          "height": 279
        },
        "id": "uDcITnsEB4oR",
        "outputId": "1571bd5c-28ba-40b1-ad13-fa33cea9b5c2"
      },
      "outputs": [
        {
          "data": {
            "image/png": "[encoded data removed]",
            "text/plain": [
              "<Figure size 432x288 with 1 Axes>"
            ]
          },
          "metadata": {
            "needs_background": "light"
          },
          "output_type": "display_data"
        }
      ],
      "source": [
        "plotAcc(adam_hist,adamax_hist,rmsprop_hist,sgd_hist,adadelta_hist,adagrad_hist,ftrl_hist,nadam_hist,'adam','adamax','rmsprop','sgd','adadelta','adagrad','ftrl','nadam')"
      ]
    },
    {
      "cell_type": "code",
      "execution_count": 36,
      "metadata": {
        "colab": {
          "base_uri": "https://localhost:8080/",
          "height": 279
        },
        "id": "ZD4mtMLNB4vU",
        "outputId": "2b91d84f-d6b6-4035-9c75-9dc30c9afd87"
      },
      "outputs": [
        {
          "data": {
            "image/png": "[encoded data removed]",
            "text/plain": [
              "<Figure size 432x288 with 1 Axes>"
            ]
          },
          "metadata": {
            "needs_background": "light"
          },
          "output_type": "display_data"
        }
      ],
      "source": [
        "plotLoss(adam_hist,adamax_hist,rmsprop_hist,sgd_hist,adadelta_hist,adagrad_hist,ftrl_hist,nadam_hist,'adam','adamax','rmsprop','sgd','adadelta','adagrad','ftrl','nadam')"
      ]
    },
    {
      "cell_type": "code",
      "execution_count": 37,
      "metadata": {
        "colab": {
          "base_uri": "https://localhost:8080/"
        },
        "id": "Jtpk5yoeE6eA",
        "outputId": "bc7430a6-129e-4a2b-c67f-416bc3c4a12e"
      },
      "outputs": [
        {
          "name": "stdout",
          "output_type": "stream",
          "text": [
            "Optimizer: ADAM Model\n",
            "48/48 [==============================] - 0s 3ms/step - loss: 0.2703 - acc: 0.9244\n",
            "test acc: 0.92444908618927, test_loss: 0.270274817943573\n",
            "\n",
            "\n",
            "\n",
            "Confusion Matrix: \n",
            " [[367  33]\n",
            " [ 39 514]]\n",
            "\n",
            "\n",
            "\n",
            "              precision    recall  f1-score   support\n",
            "\n",
            "           0       0.90      0.92      0.91       400\n",
            "           1       0.94      0.93      0.93       553\n",
            "\n",
            "    accuracy                           0.92       953\n",
            "   macro avg       0.92      0.92      0.92       953\n",
            "weighted avg       0.92      0.92      0.92       953\n",
            "\n"
          ]
        }
      ],
      "source": [
        "print('Optimizer: ADAM Model')\n",
        "modelEvaluate(adam)"
      ]
    },
    {
      "cell_type": "code",
      "execution_count": 38,
      "metadata": {
        "colab": {
          "base_uri": "https://localhost:8080/"
        },
        "id": "p5N7PyywE6pL",
        "outputId": "7cd8147a-a8fd-40c7-c14c-45351d8b5fac"
      },
      "outputs": [
        {
          "name": "stdout",
          "output_type": "stream",
          "text": [
            "Optimizer: ADAMAX Model\n",
            "48/48 [==============================] - 0s 2ms/step - loss: 0.3336 - acc: 0.9255\n",
            "test acc: 0.9254984259605408, test_loss: 0.3335515856742859\n",
            "\n",
            "\n",
            "\n",
            "Confusion Matrix: \n",
            " [[364  36]\n",
            " [ 35 518]]\n",
            "\n",
            "\n",
            "\n",
            "              precision    recall  f1-score   support\n",
            "\n",
            "           0       0.91      0.91      0.91       400\n",
            "           1       0.94      0.94      0.94       553\n",
            "\n",
            "    accuracy                           0.93       953\n",
            "   macro avg       0.92      0.92      0.92       953\n",
            "weighted avg       0.93      0.93      0.93       953\n",
            "\n"
          ]
        }
      ],
      "source": [
        "print('Optimizer: ADAMAX Model')\n",
        "modelEvaluate(adamax)"
      ]
    },
    {
      "cell_type": "code",
      "execution_count": 39,
      "metadata": {
        "colab": {
          "base_uri": "https://localhost:8080/"
        },
        "id": "f7CcQfgFE60a",
        "outputId": "ec003bf5-8960-4a04-cd0c-8cc500a9bf63"
      },
      "outputs": [
        {
          "name": "stdout",
          "output_type": "stream",
          "text": [
            "Optimizer: RMSPROP Model\n",
            "48/48 [==============================] - 0s 2ms/step - loss: 0.2751 - acc: 0.9234\n",
            "test acc: 0.923399806022644, test_loss: 0.27507591247558594\n",
            "\n",
            "\n",
            "\n",
            "Confusion Matrix: \n",
            " [[372  28]\n",
            " [ 45 508]]\n",
            "\n",
            "\n",
            "\n",
            "              precision    recall  f1-score   support\n",
            "\n",
            "           0       0.89      0.93      0.91       400\n",
            "           1       0.95      0.92      0.93       553\n",
            "\n",
            "    accuracy                           0.92       953\n",
            "   macro avg       0.92      0.92      0.92       953\n",
            "weighted avg       0.92      0.92      0.92       953\n",
            "\n"
          ]
        }
      ],
      "source": [
        "print('Optimizer: RMSPROP Model')\n",
        "modelEvaluate(rmsprop)"
      ]
    },
    {
      "cell_type": "code",
      "execution_count": 40,
      "metadata": {
        "colab": {
          "base_uri": "https://localhost:8080/"
        },
        "id": "sbQVtmt7E6-M",
        "outputId": "742b0877-bcb2-4c9a-fdfe-be4f0bc11478"
      },
      "outputs": [
        {
          "name": "stdout",
          "output_type": "stream",
          "text": [
            "Optimizer: SGD Model\n",
            "48/48 [==============================] - 0s 3ms/step - loss: 0.3517 - acc: 0.9234\n",
            "test acc: 0.923399806022644, test_loss: 0.35173895955085754\n",
            "\n",
            "\n",
            "\n",
            "Confusion Matrix: \n",
            " [[367  33]\n",
            " [ 40 513]]\n",
            "\n",
            "\n",
            "\n",
            "              precision    recall  f1-score   support\n",
            "\n",
            "           0       0.90      0.92      0.91       400\n",
            "           1       0.94      0.93      0.93       553\n",
            "\n",
            "    accuracy                           0.92       953\n",
            "   macro avg       0.92      0.92      0.92       953\n",
            "weighted avg       0.92      0.92      0.92       953\n",
            "\n"
          ]
        }
      ],
      "source": [
        "print('Optimizer: SGD Model')\n",
        "modelEvaluate(sgd)"
      ]
    },
    {
      "cell_type": "code",
      "execution_count": 42,
      "metadata": {
        "colab": {
          "base_uri": "https://localhost:8080/"
        },
        "id": "Mr2O5HLxE7P6",
        "outputId": "f09c248d-0350-44c7-fe3c-a9cb4e4482ac"
      },
      "outputs": [
        {
          "name": "stdout",
          "output_type": "stream",
          "text": [
            "Optimizer: ADAGRAD Model\n",
            "48/48 [==============================] - 0s 2ms/step - loss: 0.5031 - acc: 0.9119\n",
            "test acc: 0.9118573069572449, test_loss: 0.503075122833252\n",
            "\n",
            "\n",
            "\n",
            "Confusion Matrix: \n",
            " [[338  62]\n",
            " [ 22 531]]\n",
            "\n",
            "\n",
            "\n",
            "              precision    recall  f1-score   support\n",
            "\n",
            "           0       0.94      0.84      0.89       400\n",
            "           1       0.90      0.96      0.93       553\n",
            "\n",
            "    accuracy                           0.91       953\n",
            "   macro avg       0.92      0.90      0.91       953\n",
            "weighted avg       0.91      0.91      0.91       953\n",
            "\n"
          ]
        }
      ],
      "source": [
        "print('Optimizer: ADAGRAD Model')\n",
        "modelEvaluate(adagrad)"
      ]
    },
    {
      "cell_type": "code",
      "execution_count": 43,
      "metadata": {
        "colab": {
          "base_uri": "https://localhost:8080/"
        },
        "id": "6_5kRJqINnYx",
        "outputId": "75a509e4-c7af-46b1-faa6-a3190b61dcd5"
      },
      "outputs": [
        {
          "name": "stdout",
          "output_type": "stream",
          "text": [
            "Optimizer: FTRL Model\n",
            "48/48 [==============================] - 0s 2ms/step - loss: 0.6331 - acc: 0.9224\n",
            "test acc: 0.9223504662513733, test_loss: 0.6330721378326416\n",
            "\n",
            "\n",
            "\n",
            "Confusion Matrix: \n",
            " [[359  41]\n",
            " [ 33 520]]\n",
            "\n",
            "\n",
            "\n",
            "              precision    recall  f1-score   support\n",
            "\n",
            "           0       0.92      0.90      0.91       400\n",
            "           1       0.93      0.94      0.93       553\n",
            "\n",
            "    accuracy                           0.92       953\n",
            "   macro avg       0.92      0.92      0.92       953\n",
            "weighted avg       0.92      0.92      0.92       953\n",
            "\n"
          ]
        }
      ],
      "source": [
        "print('Optimizer: FTRL Model')\n",
        "modelEvaluate(ftrl)"
      ]
    },
    {
      "cell_type": "code",
      "execution_count": 44,
      "metadata": {
        "colab": {
          "base_uri": "https://localhost:8080/"
        },
        "id": "-aUA4d70NngA",
        "outputId": "948b55fb-54f0-4895-8ad5-5f4a0df4f597"
      },
      "outputs": [
        {
          "name": "stdout",
          "output_type": "stream",
          "text": [
            "Optimizer: NADAM Model\n",
            "48/48 [==============================] - 0s 2ms/step - loss: 0.2737 - acc: 0.9192\n",
            "test acc: 0.9192025065422058, test_loss: 0.2737010717391968\n",
            "\n",
            "\n",
            "\n",
            "Confusion Matrix: \n",
            " [[358  42]\n",
            " [ 35 518]]\n",
            "\n",
            "\n",
            "\n",
            "              precision    recall  f1-score   support\n",
            "\n",
            "           0       0.91      0.90      0.90       400\n",
            "           1       0.93      0.94      0.93       553\n",
            "\n",
            "    accuracy                           0.92       953\n",
            "   macro avg       0.92      0.92      0.92       953\n",
            "weighted avg       0.92      0.92      0.92       953\n",
            "\n"
          ]
        }
      ],
      "source": [
        "print('Optimizer: NADAM Model')\n",
        "modelEvaluate(nadam)"
      ]
    },
    {
      "cell_type": "code",
      "execution_count": 41,
      "metadata": {
        "colab": {
          "base_uri": "https://localhost:8080/"
        },
        "id": "PKTb3BeBE7H6",
        "outputId": "ffb784a6-7da8-4144-afd1-710e792ecc89"
      },
      "outputs": [
        {
          "name": "stdout",
          "output_type": "stream",
          "text": [
            "Optimizer: ADADELTA Model\n",
            "48/48 [==============================] - 0s 3ms/step - loss: 1.4344 - acc: 0.3778\n",
            "test acc: 0.37775444984436035, test_loss: 1.434383511543274\n",
            "\n",
            "\n",
            "\n",
            "Confusion Matrix: \n",
            " [[201 199]\n",
            " [394 159]]\n",
            "\n",
            "\n",
            "\n",
            "              precision    recall  f1-score   support\n",
            "\n",
            "           0       0.34      0.50      0.40       400\n",
            "           1       0.44      0.29      0.35       553\n",
            "\n",
            "    accuracy                           0.38       953\n",
            "   macro avg       0.39      0.40      0.38       953\n",
            "weighted avg       0.40      0.38      0.37       953\n",
            "\n"
          ]
        }
      ],
      "source": [
        "print('Optimizer: ADADELTA Model')\n",
        "modelEvaluate(adadelta)"
      ]
    }
  ],
  "metadata": {
    "accelerator": "GPU",
    "colab": {
      "collapsed_sections": [],
      "name": "data_1.ipynb",
      "provenance": []
    },
    "kernelspec": {
      "display_name": "Python 3",
      "name": "python3"
    },
    "language_info": {
      "name": "python"
    }
  },
  "nbformat": 4,
  "nbformat_minor": 0
}
